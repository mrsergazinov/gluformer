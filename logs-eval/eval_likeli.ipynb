{
 "cells": [
  {
   "cell_type": "code",
   "execution_count": 1,
   "metadata": {
    "colab": {
     "base_uri": "https://localhost:8080/"
    },
    "executionInfo": {
     "elapsed": 16144,
     "status": "ok",
     "timestamp": 1634139078192,
     "user": {
      "displayName": "Renat Sergazinov",
      "photoUrl": "https://lh3.googleusercontent.com/a/default-user=s64",
      "userId": "15048760581635637112"
     },
     "user_tz": 300
    },
    "id": "IRTwYUe452kO",
    "outputId": "6629b082-a66e-4693-f356-3baf08b29f9b"
   },
   "outputs": [],
   "source": [
    "# This mounts your Google Drive to the Colab VM.\n",
    "# from google.colab import drive\n",
    "# drive.mount('/content/drive', force_remount=True)\n",
    "\n",
    "# foldername = '/content/drive/My Drive/github/gluformer'\n",
    "foldername = '/home/mrsergazinov/python-git-workspace/gluformer'\n",
    "assert foldername is not None, \"[!] Enter the foldername.\"\n",
    "\n",
    "# add path to .py code\n",
    "import sys\n",
    "sys.path.append(foldername)"
   ]
  },
  {
   "cell_type": "code",
   "execution_count": 2,
   "metadata": {
    "colab": {
     "base_uri": "https://localhost:8080/"
    },
    "executionInfo": {
     "elapsed": 18319,
     "status": "ok",
     "timestamp": 1634139427857,
     "user": {
      "displayName": "Renat Sergazinov",
      "photoUrl": "https://lh3.googleusercontent.com/a/default-user=s64",
      "userId": "15048760581635637112"
     },
     "user_tz": 300
    },
    "id": "k3ss0RskaykE",
    "outputId": "0a4cb20c-e1c5-409a-eedd-3d824b5ac489"
   },
   "outputs": [],
   "source": [
    "# load libraries\n",
    "\n",
    "import numpy as np\n",
    "import pandas as pd\n",
    "import time\n",
    "import seaborn as sns\n",
    "import matplotlib.pylab as plt\n",
    "from statsmodels.distributions.empirical_distribution import ECDF\n",
    "\n",
    "import torch\n",
    "import torch.nn as nn\n",
    "import torch.nn.functional as F\n",
    "from torch.utils.data import DataLoader, Dataset\n",
    "\n",
    "from gluformer.attention import *\n",
    "from gluformer.encoder import *\n",
    "from gluformer.decoder import *\n",
    "from gluformer.embed import *\n",
    "from gluformer.model import *\n",
    "from gludata.data_loader import *\n",
    "from utils.train import *\n",
    "from utils.test import *"
   ]
  },
  {
   "cell_type": "code",
   "execution_count": 3,
   "metadata": {
    "id": "2PtoICZEOuE1"
   },
   "outputs": [],
   "source": [
    "# load data\n",
    "PATH = foldername + '/gludata/data/'\n",
    "BATCH_SIZE = 1\n",
    "LEN_PRED = 12\n",
    "LEN_LABEL = 60\n",
    "LEN_SEQ = 180\n",
    "\n",
    "test_data = CGMData(PATH, 'test', [LEN_SEQ, LEN_LABEL, LEN_PRED])\n",
    "test_data_loader = DataLoader(test_data, \n",
    "                              batch_size=BATCH_SIZE, \n",
    "                              shuffle=False, \n",
    "                              num_workers=0, \n",
    "                              drop_last=False, \n",
    "                              collate_fn = collate_fn_custom)"
   ]
  },
  {
   "cell_type": "code",
   "execution_count": 4,
   "metadata": {
    "id": "dvnISBwka8P2"
   },
   "outputs": [],
   "source": [
    "%%capture\n",
    "LEN_PRED_MODEL = 12\n",
    "LEN_LABEL = 60\n",
    "LEN_SEQ = 180\n",
    "\n",
    "# define model\n",
    "D_MODEL = 512\n",
    "D_FCN = 2048\n",
    "N_HEADS = 12\n",
    "R_DROP = 0.3\n",
    "ACTIV = \"relu\"\n",
    "NUM_ENC_LAYERS = 2\n",
    "NUM_DEC_LAYERS = 1\n",
    "DISTIL = True\n",
    "DEVICE = torch.device('cuda') if torch.cuda.is_available() else torch.device('cpu')\n",
    "\n",
    "model = Gluformer(d_model=D_MODEL, \n",
    "                  n_heads=N_HEADS, \n",
    "                  d_fcn=D_FCN, \n",
    "                  r_drop=R_DROP, \n",
    "                  activ=ACTIV, \n",
    "                  num_enc_layers=NUM_ENC_LAYERS, \n",
    "                  num_dec_layers=NUM_DEC_LAYERS,\n",
    "                  distil=DISTIL, \n",
    "                  len_pred=LEN_PRED_MODEL)\n",
    "model.load_state_dict(torch.load(foldername + \"/model_likeli.pth\"))\n",
    "model.train()\n",
    "model = model.to(DEVICE)"
   ]
  },
  {
   "cell_type": "code",
   "execution_count": 5,
   "metadata": {
    "colab": {
     "base_uri": "https://localhost:8080/"
    },
    "executionInfo": {
     "elapsed": 4493216,
     "status": "ok",
     "timestamp": 1633902155087,
     "user": {
      "displayName": "Renat Sergazinov",
      "photoUrl": "https://lh3.googleusercontent.com/a/default-user=s64",
      "userId": "15048760581635637112"
     },
     "user_tz": 300
    },
    "id": "tWDNCsnByKQ9",
    "outputId": "600cabf5-be6d-4e5d-f1d7-7edb0623c213"
   },
   "outputs": [
    {
     "name": "stderr",
     "output_type": "stream",
     "text": [
      "/home/mrsergazinov/anaconda3/envs/torch/lib/python3.9/site-packages/torch/nn/functional.py:652: UserWarning: Named tensors and all their associated APIs are an experimental feature and subject to change. Please do not use them for anything important until they are released as stable. (Triggered internally at  /opt/conda/conda-bld/pytorch_1623448238472/work/c10/core/TensorImpl.h:1156.)\n",
      "  return torch.max_pool1d(input, kernel_size, stride, padding, dilation, ceil_mode)\n"
     ]
    }
   ],
   "source": [
    "UPPER = 402\n",
    "LOWER = 38\n",
    "SCALE_1 = 5\n",
    "SCALE_2 = 2\n",
    "NUM_SAMPLES = 100\n",
    "\n",
    "# compute test loss\n",
    "test_loss_3 = []\n",
    "test_loss_6 = []\n",
    "test_loss_9 = []\n",
    "test_loss_12 = []\n",
    "\n",
    "test_loss_rmse_3 = []\n",
    "test_loss_rmse_6 = []\n",
    "test_loss_rmse_9 = []\n",
    "test_loss_rmse_12 = []\n",
    "\n",
    "trues = []\n",
    "preds = []\n",
    "inp = []\n",
    "calibration = [[] for i in range(12)]\n",
    "sharpness = [[] for i in range(12)]\n",
    "\n",
    "for i, (subj_id, batch_x, batch_y, batch_x_mark, batch_y_mark) in enumerate(test_data_loader):\n",
    "    inp.append((subj_id, (batch_x + SCALE_1) / (SCALE_1 * SCALE_2) * (UPPER - LOWER) + LOWER))\n",
    "    pred, true = predict_batch(subj_id = subj_id, \n",
    "                              batch_x=batch_x, \n",
    "                              batch_y=batch_y, \n",
    "                              batch_x_mark=batch_x_mark, \n",
    "                              batch_y_mark=batch_y_mark, \n",
    "                              len_pred=LEN_PRED, \n",
    "                              len_pred_model=LEN_PRED_MODEL,\n",
    "                              len_label=LEN_LABEL, \n",
    "                              model=model, \n",
    "                              device=DEVICE)\n",
    "    pred = pred.detach().cpu().numpy(); true = true.detach().cpu().numpy()\n",
    "    # transform back\n",
    "    pred = (pred + SCALE_1) / (SCALE_1 * SCALE_2) * (UPPER - LOWER) + LOWER\n",
    "    true = (true + SCALE_1) / (SCALE_1 * SCALE_2) * (UPPER - LOWER) + LOWER\n",
    "    # compute ecdf\n",
    "    pred = pred.transpose((1,0,2)).reshape((pred.shape[1], -1, NUM_SAMPLES)).transpose((1, 0, 2))\n",
    "    true = true.transpose((1,0,2)).reshape((true.shape[1], -1, NUM_SAMPLES)).transpose((1, 0, 2))[:, :, 0]\n",
    "    trues.append(true)\n",
    "    preds.append(pred)\n",
    "    for i in range(12):\n",
    "        ecdf = ECDF(pred[0, i, :])\n",
    "        p = ecdf(true[0, i])\n",
    "        calibration[i].append(p)\n",
    "        sharpness[i].append(np.var(pred[0, i, :]))\n",
    "\n",
    "    # compute errors\n",
    "    pred = np.mean(pred, axis=2)\n",
    "    # compute APE: 15 mins (3 points)\n",
    "    ape_3 = np.mean(np.abs(true[:, :3] - pred[:, :3]) / true[:, :3])\n",
    "    rmse_3 = np.sqrt(np.mean((true[:, :3] - pred[:, :3]) ** 2))\n",
    "    # compute APE: 30 mins (6 points)\n",
    "    ape_6 = np.mean(np.abs(true[:, :6] - pred[:, :6]) / true[:, :6])\n",
    "    rmse_6 = np.sqrt(np.mean((true[:, :6] - pred[:, :6]) ** 2))\n",
    "    # compute APE: 45 mins (9 points)\n",
    "    ape_9 = np.mean(np.abs(true[:, :9] - pred[:, :9]) / true[:, :9])\n",
    "    rmse_9 = np.sqrt(np.mean((true[:, :9] - pred[:, :9]) ** 2))\n",
    "    # compute APE: full\n",
    "    ape_12 = np.mean(np.abs(true - pred) / true)\n",
    "    rmse_12 = np.sqrt(np.mean((true - pred) ** 2))\n",
    "\n",
    "    test_loss_3.append(ape_3)\n",
    "    test_loss_6.append(ape_6)\n",
    "    test_loss_9.append(ape_9)\n",
    "    test_loss_12.append(ape_12)\n",
    "    test_loss_rmse_3.append(rmse_3)\n",
    "    test_loss_rmse_6.append(rmse_6)\n",
    "    test_loss_rmse_9.append(rmse_9)\n",
    "    test_loss_rmse_12.append(rmse_12)"
   ]
  },
  {
   "cell_type": "code",
   "execution_count": 6,
   "metadata": {
    "colab": {
     "base_uri": "https://localhost:8080/",
     "height": 265
    },
    "executionInfo": {
     "elapsed": 1758,
     "status": "ok",
     "timestamp": 1633902515288,
     "user": {
      "displayName": "Renat Sergazinov",
      "photoUrl": "https://lh3.googleusercontent.com/a/default-user=s64",
      "userId": "15048760581635637112"
     },
     "user_tz": 300
    },
    "id": "G9-lhjgDAdfE",
    "outputId": "b9b1f207-e757-478d-bbb5-2e2f98b84040"
   },
   "outputs": [
    {
     "data": {
      "image/png": "[encoded data removed]",
      "text/plain": [
       "<Figure size 640x480 with 4 Axes>"
      ]
     },
     "metadata": {},
     "output_type": "display_data"
    }
   ],
   "source": [
    "f, axarr = plt.subplots(2,2)\n",
    "axarr[0,0].hist(np.array(test_loss_3), 100)\n",
    "axarr[0,1].hist(np.array(test_loss_6), 100)\n",
    "axarr[1,0].hist(np.array(test_loss_9), 100)\n",
    "axarr[1,1].hist(np.array(test_loss_12), 100)\n",
    "plt.show()"
   ]
  },
  {
   "cell_type": "code",
   "execution_count": 7,
   "metadata": {
    "colab": {
     "base_uri": "https://localhost:8080/",
     "height": 265
    },
    "executionInfo": {
     "elapsed": 1372,
     "status": "ok",
     "timestamp": 1633902516658,
     "user": {
      "displayName": "Renat Sergazinov",
      "photoUrl": "https://lh3.googleusercontent.com/a/default-user=s64",
      "userId": "15048760581635637112"
     },
     "user_tz": 300
    },
    "id": "nciNQ0p3ahsA",
    "outputId": "94f96454-7627-4ad0-adef-213f2f304464"
   },
   "outputs": [
    {
     "data": {
      "image/png": "[encoded data removed]",
      "text/plain": [
       "<Figure size 640x480 with 4 Axes>"
      ]
     },
     "metadata": {},
     "output_type": "display_data"
    }
   ],
   "source": [
    "f, axarr = plt.subplots(2,2)\n",
    "axarr[0,0].hist(np.array(test_loss_rmse_3), 100)\n",
    "axarr[0,1].hist(np.array(test_loss_rmse_6), 100)\n",
    "axarr[1,0].hist(np.array(test_loss_rmse_9), 100)\n",
    "axarr[1,1].hist(np.array(test_loss_rmse_12), 100)\n",
    "plt.show()"
   ]
  },
  {
   "cell_type": "code",
   "execution_count": 8,
   "metadata": {
    "colab": {
     "base_uri": "https://localhost:8080/"
    },
    "executionInfo": {
     "elapsed": 8,
     "status": "ok",
     "timestamp": 1633902516658,
     "user": {
      "displayName": "Renat Sergazinov",
      "photoUrl": "https://lh3.googleusercontent.com/a/default-user=s64",
      "userId": "15048760581635637112"
     },
     "user_tz": 300
    },
    "id": "3OOPzbAGmNuh",
    "outputId": "0210be1d-40f1-4fd8-c7f5-1cbc4554c73e"
   },
   "outputs": [
    {
     "name": "stdout",
     "output_type": "stream",
     "text": [
      "Test loss for 15 mins: 0.0299243, for 30 mins: 0.0517433, for 45 mins: : 0.0723622, for 60 mins: 0.0903793\n"
     ]
    }
   ],
   "source": [
    "print(\"Test loss for 15 mins: {0:.7f}, for 30 mins: {1:.7f}, for 45 mins: : {2:.7f}, for 60 mins: {3:.7f}\".format(\n",
    "    np.median(np.array(test_loss_3)), \n",
    "    np.median(np.array(test_loss_6)),\n",
    "    np.median(np.array(test_loss_9)),\n",
    "    np.median(np.array(test_loss_12))))"
   ]
  },
  {
   "cell_type": "code",
   "execution_count": 9,
   "metadata": {
    "colab": {
     "base_uri": "https://localhost:8080/"
    },
    "executionInfo": {
     "elapsed": 5,
     "status": "ok",
     "timestamp": 1633902516659,
     "user": {
      "displayName": "Renat Sergazinov",
      "photoUrl": "https://lh3.googleusercontent.com/a/default-user=s64",
      "userId": "15048760581635637112"
     },
     "user_tz": 300
    },
    "id": "JZPmJ0uKatez",
    "outputId": "3028374b-a594-4957-f7cd-2021c0c7b7cc"
   },
   "outputs": [
    {
     "name": "stdout",
     "output_type": "stream",
     "text": [
      "Test loss for 15 mins: 5.7066936, for 30 mins: 9.9811993, for 45 mins: : 13.9550161, for 60 mins: 17.4088840\n"
     ]
    }
   ],
   "source": [
    "print(\"Test loss for 15 mins: {0:.7f}, for 30 mins: {1:.7f}, for 45 mins: : {2:.7f}, for 60 mins: {3:.7f}\".format(\n",
    "    np.median(np.array(test_loss_rmse_3)), \n",
    "    np.median(np.array(test_loss_rmse_6)),\n",
    "    np.median(np.array(test_loss_rmse_9)),\n",
    "    np.median(np.array(test_loss_rmse_12))))"
   ]
  },
  {
   "cell_type": "code",
   "execution_count": 10,
   "metadata": {
    "id": "2g0bQMAPAIel"
   },
   "outputs": [],
   "source": [
    "calibration_matrix = np.empty((11, 13))\n",
    "probs = np.linspace(0, 1, 11)\n",
    "for i in range(12):\n",
    "  for j in range(len(probs)):\n",
    "    calibration_matrix[j, i+1] = np.mean(np.array(calibration[i]) <= probs[j])\n",
    "calibration_matrix[:, 0] = probs\n",
    "calibration_data = pd.DataFrame(calibration_matrix)\n",
    "calibration_data.columns = [\"Expected Confidence\"] + [str(i * 5) + \" minutes\" for i in range(1, 13)]\n",
    "calibration_data = calibration_data.melt(id_vars=[\"Expected Confidence\"], var_name=\"Time\", value_name=\"Observed Confidence\")"
   ]
  },
  {
   "cell_type": "code",
   "execution_count": 11,
   "metadata": {
    "colab": {
     "base_uri": "https://localhost:8080/",
     "height": 298
    },
    "executionInfo": {
     "elapsed": 3813,
     "status": "ok",
     "timestamp": 1634139469650,
     "user": {
      "displayName": "Renat Sergazinov",
      "photoUrl": "https://lh3.googleusercontent.com/a/default-user=s64",
      "userId": "15048760581635637112"
     },
     "user_tz": 300
    },
    "id": "oxJsi_uiTR0D",
    "outputId": "49cc6b5f-995b-4eba-e8da-d14daa17b3de"
   },
   "outputs": [],
   "source": [
    "sns.set_theme()\n",
    "sns.set_context(\"paper\")\n",
    "# Initialize a grid of plots with an Axes for each walk\n",
    "grid = sns.FacetGrid(calibration_data, col=\"Time\", hue=\"Time\", palette=\"tab20c\",\n",
    "                     col_wrap=6, height=2)\n",
    "\n",
    "# Draw a line plot to show the trajectory of each random walk\n",
    "grid.map(plt.plot, \"Expected Confidence\", \"Observed Confidence\", marker=\"o\")\n",
    "\n",
    "# Adjust the tick positions and labels\n",
    "grid.set(xticks=[0, 0.2, 0.4, 0.6, 0.8, 1], yticks=[0, 0.2, 0.4, 0.6, 0.8, 1],\n",
    "         xlim=(-.1, 1.1), ylim=(-.1, 1.1))\n",
    "\n",
    "for ax in grid.axes.flat:\n",
    "    x = np.linspace(0, 1, 11)\n",
    "    y = x\n",
    "    ax.plot(x, y, linestyle=':', color='gray')\n",
    "\n",
    "# Adjust the arrangement of the plots\n",
    "grid.fig.tight_layout(w_pad=1)\n",
    "\n",
    "plt.savefig(foldername + '/logs-eval/calibration.pdf', \n",
    "           dpi=300)"
   ]
  },
  {
   "cell_type": "code",
   "execution_count": 12,
   "metadata": {
    "colab": {
     "base_uri": "https://localhost:8080/"
    },
    "executionInfo": {
     "elapsed": 494,
     "status": "ok",
     "timestamp": 1634139474824,
     "user": {
      "displayName": "Renat Sergazinov",
      "photoUrl": "https://lh3.googleusercontent.com/a/default-user=s64",
      "userId": "15048760581635637112"
     },
     "user_tz": 300
    },
    "id": "ePgkqwnvcabN",
    "outputId": "10f1e412-2224-4ee8-88c6-28d7b6936a73"
   },
   "outputs": [
    {
     "name": "stdout",
     "output_type": "stream",
     "text": [
      "For t = 5 shaprness is 32.117\n",
      "For t = 10 shaprness is 48.831\n",
      "For t = 15 shaprness is 94.252\n",
      "For t = 20 shaprness is 160.988\n",
      "For t = 25 shaprness is 253.759\n",
      "For t = 30 shaprness is 371.987\n",
      "For t = 35 shaprness is 526.674\n",
      "For t = 40 shaprness is 695.140\n",
      "For t = 45 shaprness is 810.687\n",
      "For t = 50 shaprness is 924.350\n",
      "For t = 55 shaprness is 1027.241\n",
      "For t = 60 shaprness is 1109.840\n"
     ]
    }
   ],
   "source": [
    "for i in range(12):\n",
    "  print(\"For t = {0} shaprness is {1:.3f}\".format((i+1)*5, np.mean(sharpness[i])))\n",
    "sharpness_values = np.array([np.mean(sharpness[i]) for i in range(12)])"
   ]
  },
  {
   "cell_type": "code",
   "execution_count": 13,
   "metadata": {
    "colab": {
     "base_uri": "https://localhost:8080/",
     "height": 280
    },
    "executionInfo": {
     "elapsed": 549,
     "status": "ok",
     "timestamp": 1634139476980,
     "user": {
      "displayName": "Renat Sergazinov",
      "photoUrl": "https://lh3.googleusercontent.com/a/default-user=s64",
      "userId": "15048760581635637112"
     },
     "user_tz": 300
    },
    "id": "wyDRePq0dsrN",
    "outputId": "1ab86b59-160b-4b56-dafc-0ed43215b0b3"
   },
   "outputs": [],
   "source": [
    "ax = plt.figure()\n",
    "ax = sns.lineplot(x = range(1, 13), y = sharpness_values, marker=\"o\")\n",
    "ax.set(xlabel=\"Time\", ylabel=\"Variance\")\n",
    "\n",
    "plt.savefig(foldername + '/logs-eval/sharpness.pdf', dpi=300)"
   ]
  },
  {
   "cell_type": "code",
   "execution_count": 14,
   "metadata": {
    "colab": {
     "base_uri": "https://localhost:8080/",
     "height": 442
    },
    "executionInfo": {
     "elapsed": 4441,
     "status": "ok",
     "timestamp": 1634139883609,
     "user": {
      "displayName": "Renat Sergazinov",
      "photoUrl": "https://lh3.googleusercontent.com/a/default-user=s64",
      "userId": "15048760581635637112"
     },
     "user_tz": 300
    },
    "id": "QT9aa3hpT5cI",
    "outputId": "64ab4d1f-8f3f-4581-d552-b51864de344a"
   },
   "outputs": [],
   "source": [
    "def subplt(fig, index, x, y, yhat):\n",
    "    ax = fig.add_subplot(2, 6, index)\n",
    "    quants = np.quantile(yhat[0, :, :], q=[0.025, 0.975], axis=1) \n",
    "    mean = np.mean(yhat[0, :, :], axis=1)\n",
    "    ax.plot(range(1,13), y[0, :], label = \"True\")\n",
    "    ax.plot(range(1,13), mean, label = \"Predicted\")\n",
    "    ax.plot(range(-180, 0, 1), x, label = \"Input\")\n",
    "    if index > 6:\n",
    "        ax.set(xlabel=\"Time\")\n",
    "    if index == 1 or index == 7:\n",
    "        ax.set(ylabel=\"Glucose (mg/dL)\")\n",
    "    ax.fill_between(range(1,13), quants[0], quants[1], alpha=0.3, label = \"95% CI\")\n",
    "    ax.legend(loc='upper left')\n",
    "\n",
    "plt.style.use(\"seaborn\")\n",
    "fig = plt.figure()\n",
    "fig.set_size_inches(18, 6)\n",
    "fig.subplots_adjust(hspace=0.2, wspace=0.4) \n",
    "\n",
    "sample = [1000, 3000, 4105, \n",
    "          5000, 6000, 7000, \n",
    "          7500, 9000, 10000,\n",
    "          11000, 12000, 12500]\n",
    "for i in range(1, 13):\n",
    "    subplt(fig, i, inp[sample[i-1]][1][0, :, 0], trues[sample[i-1]], preds[sample[i-1]])\n",
    "\n",
    "plt.tight_layout()\n",
    "plt.savefig(foldername + '/logs-eval/confidence.pdf', dpi=300)"
   ]
  },
  {
   "cell_type": "code",
   "execution_count": null,
   "metadata": {
    "id": "urRssIPwX2p6"
   },
   "outputs": [],
   "source": [
    "with open(foldername + '/logs-eval/inputs.pkl', 'wb') as f:\n",
    "    pickle.dump(inp, f)\n",
    "with open(foldername + '/logs-eval/trues.pkl', 'wb') as f:\n",
    "    pickle.dump(trues, f)\n",
    "with open(foldername + '/logs-eval/preds.pkl', 'wb') as f:\n",
    "    pickle.dump(preds, f)\n",
    "with open(foldername + '/logs-eval/sharpness.pkl', 'wb') as f:\n",
    "    pickle.dump(sharpness, f)\n",
    "with open(foldername + '/logs-eval/calibration.pkl', 'wb') as f:\n",
    "    pickle.dump(calibration, f)"
   ]
  },
  {
   "cell_type": "code",
   "execution_count": 3,
   "metadata": {
    "id": "iNMczKp1sr1-"
   },
   "outputs": [],
   "source": [
    "file = open(foldername + \"/logs-eval/calibration.pkl\",'rb')\n",
    "calibration = pickle.load(file)\n",
    "file.close()\n",
    "\n",
    "file = open(foldername + \"/logs-eval/inputs.pkl\",'rb')\n",
    "inp = pickle.load(file)\n",
    "file.close()\n",
    "\n",
    "file = open(foldername + \"/logs-eval/preds.pkl\",'rb')\n",
    "preds = pickle.load(file)\n",
    "file.close()\n",
    "\n",
    "file = open(foldername + \"/logs-eval/trues.pkl\",'rb')\n",
    "trues = pickle.load(file)\n",
    "file.close()\n",
    "\n",
    "file = open(foldername + \"/logs-eval/sharpness.pkl\",'rb')\n",
    "sharpness = pickle.load(file)\n",
    "file.close()"
   ]
  },
  {
   "cell_type": "code",
   "execution_count": 4,
   "metadata": {
    "id": "hJWrtAiHalzg"
   },
   "outputs": [
    {
     "name": "stdout",
     "output_type": "stream",
     "text": [
      "Likelihood: -51739.176\n"
     ]
    }
   ],
   "source": [
    "UPPER = 402\n",
    "LOWER = 38\n",
    "SCALE_1 = 5\n",
    "SCALE_2 = 2\n",
    "SIGMA = 0.3\n",
    "\n",
    "likelihood = 0\n",
    "for i in range(len(preds)):\n",
    "    pred = (preds[i][0, :, :] - LOWER) / (UPPER - LOWER) * (SCALE_1 * SCALE_2) - SCALE_1\n",
    "    true = (trues[i][0, :, np.newaxis] - LOWER) / (UPPER - LOWER) * (SCALE_1 * SCALE_2) - SCALE_1\n",
    "    m = max(-np.sum((pred - true) ** 2 / (2 * SIGMA), axis = 0))\n",
    "    likelihood += np.log(np.sum(np.exp((-np.sum((pred - true) ** 2 / (2 * SIGMA), axis = 0) - m)), axis = 0)) + m + np.log(1/500)\n",
    "print(\"Likelihood: {0:.3f}\".format(likelihood))"
   ]
  },
  {
   "cell_type": "code",
   "execution_count": null,
   "metadata": {},
   "outputs": [],
   "source": []
  }
 ],
 "metadata": {
  "accelerator": "GPU",
  "colab": {
   "collapsed_sections": [],
   "name": "eval_likeli.ipynb",
   "provenance": []
  },
  "kernelspec": {
   "display_name": "Python 3",
   "language": "python",
   "name": "python3"
  },
  "language_info": {
   "codemirror_mode": {
    "name": "ipython",
    "version": 3
   },
   "file_extension": ".py",
   "mimetype": "text/x-python",
   "name": "python",
   "nbconvert_exporter": "python",
   "pygments_lexer": "ipython3",
   "version": "3.9.6"
  }
 },
 "nbformat": 4,
 "nbformat_minor": 1
}
