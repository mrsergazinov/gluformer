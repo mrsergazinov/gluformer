{
 "cells": [
  {
   "cell_type": "markdown",
   "metadata": {
    "id": "TRB35_bYxdYU"
   },
   "source": [
    "## Libraries\n",
    "\n"
   ]
  },
  {
   "cell_type": "code",
   "execution_count": 1,
   "metadata": {
    "colab": {
     "base_uri": "https://localhost:8080/"
    },
    "executionInfo": {
     "elapsed": 1293,
     "status": "ok",
     "timestamp": 1637288587595,
     "user": {
      "displayName": "Renat Sergazinov",
      "photoUrl": "https://lh3.googleusercontent.com/a/default-user=s64",
      "userId": "15048760581635637112"
     },
     "user_tz": 360
    },
    "id": "5MqE2ux9woLD",
    "outputId": "d8dd02e8-6f46-415c-b966-5dd394c8be33"
   },
   "outputs": [
    {
     "name": "stdout",
     "output_type": "stream",
     "text": [
      "Mounted at /content/drive\n"
     ]
    }
   ],
   "source": [
    "# This mounts your Google Drive to the Colab VM.\n",
    "from google.colab import drive\n",
    "drive.mount('/content/drive', force_remount=True)\n",
    "\n",
    "# foldername = '/home/mrsergazinov/python-git-workspace/gluformer/'\n",
    "foldername = '/content/drive/My Drive/github/gluformer/'\n",
    "assert foldername is not None, \"[!] Enter the foldername.\"\n",
    "\n",
    "# add path to .py code\n",
    "import sys\n",
    "sys.path.append(foldername)"
   ]
  },
  {
   "cell_type": "code",
   "execution_count": 2,
   "metadata": {
    "executionInfo": {
     "elapsed": 12240,
     "status": "ok",
     "timestamp": 1637288601207,
     "user": {
      "displayName": "Renat Sergazinov",
      "photoUrl": "https://lh3.googleusercontent.com/a/default-user=s64",
      "userId": "15048760581635637112"
     },
     "user_tz": 360
    },
    "id": "LfMHs-lrwoWJ"
   },
   "outputs": [],
   "source": [
    "%%capture\n",
    "!pip install pytorch-lightning==1.4.9\n",
    "!pip install pytorch-forecasting\n",
    "!pip install pandas --upgrade"
   ]
  },
  {
   "cell_type": "code",
   "execution_count": 1,
   "metadata": {
    "colab": {
     "base_uri": "https://localhost:8080/"
    },
    "executionInfo": {
     "elapsed": 11686,
     "status": "ok",
     "timestamp": 1637288612880,
     "user": {
      "displayName": "Renat Sergazinov",
      "photoUrl": "https://lh3.googleusercontent.com/a/default-user=s64",
      "userId": "15048760581635637112"
     },
     "user_tz": 360
    },
    "id": "-m8xX4h2woYh",
    "outputId": "2c34a06f-df16-46f9-cb4c-feb84b05ccec"
   },
   "outputs": [],
   "source": [
    "import numpy as np\n",
    "import pandas as pd\n",
    "import os\n",
    "import pickle\n",
    "\n",
    "import pytorch_lightning as pl\n",
    "from pytorch_lightning.callbacks import ModelCheckpoint\n",
    "from pytorch_lightning.loggers import TensorBoardLogger\n",
    "import torch\n",
    "\n",
    "from pytorch_forecasting import Baseline, TemporalFusionTransformer, TimeSeriesDataSet\n",
    "from pytorch_forecasting.metrics import QuantileLoss\n",
    "\n",
    "import tensorflow as tf \n",
    "import tensorboard as tb \n",
    "tf.io.gfile = tb.compat.tensorflow_stub.io.gfile"
   ]
  },
  {
   "cell_type": "markdown",
   "metadata": {
    "id": "4xcb-oHnxcQz"
   },
   "source": [
    "## Preprocessing Data"
   ]
  },
  {
   "cell_type": "code",
   "execution_count": 2,
   "metadata": {
    "executionInfo": {
     "elapsed": 15,
     "status": "ok",
     "timestamp": 1637288612881,
     "user": {
      "displayName": "Renat Sergazinov",
      "photoUrl": "https://lh3.googleusercontent.com/a/default-user=s64",
      "userId": "15048760581635637112"
     },
     "user_tz": 360
    },
    "id": "4SRUScvkwoa5"
   },
   "outputs": [],
   "source": [
    "foldername = '/home/mrsergazinov/python-git-workspace/gluformer/'\n",
    "\n",
    "path = foldername + 'gludata/data'\n",
    "with open(path+\"/test_data_pyforecast.pkl\", 'rb') as f:\n",
    "      test_data_raw = pickle.load(f)"
   ]
  },
  {
   "cell_type": "code",
   "execution_count": 3,
   "metadata": {
    "executionInfo": {
     "elapsed": 145,
     "status": "ok",
     "timestamp": 1637288613012,
     "user": {
      "displayName": "Renat Sergazinov",
      "photoUrl": "https://lh3.googleusercontent.com/a/default-user=s64",
      "userId": "15048760581635637112"
     },
     "user_tz": 360
    },
    "id": "_M-JZ95bwoc-"
   },
   "outputs": [],
   "source": [
    "def read_data(data):\n",
    "    data_len = sum([len(data[i][1]) for i in range(len(data))])\n",
    "    data_pd = pd.DataFrame(index = range(data_len),\n",
    "                           columns = [\"id\", \"segment\", \"timeidx\", \"CGM\", \n",
    "                                      \"dayofyear\", \"dayofmonth\", \"dayofweek\", \"hour\", \n",
    "                                      \"minute\", \"date\"])\n",
    "    start = 0\n",
    "    for i in range(len(data)):\n",
    "        block_len = len(data[i][1]) \n",
    "        data_pd[\"id\"][start:(start+block_len)] = [data[i][0]] * block_len\n",
    "        data_pd[\"segment\"][start:(start+block_len)] = [str(i)] * block_len \n",
    "        data_pd[\"timeidx\"][start:(start+block_len)] = range(block_len)\n",
    "        data_pd[\"CGM\"][start:(start+block_len)] = data[i][1].flatten() \n",
    "        data_pd[\"date\"][start:(start+block_len)] = data[i][3]\n",
    "        start += block_len\n",
    "    \n",
    "    # set format\n",
    "    data_pd[\"timeidx\"] = data_pd[\"timeidx\"].astype(\"int\")\n",
    "    data_pd[\"CGM\"] = data_pd[\"CGM\"].astype(\"float\")\n",
    "    \n",
    "    #extract time features\n",
    "    data_pd[\"date\"] = pd.to_datetime(data_pd[\"date\"])\n",
    "    data_pd[\"dayofyear\"] = data_pd[\"date\"].dt.dayofyear.astype(\"string\").astype(\"category\")\n",
    "    data_pd[\"dayofmonth\"] = data_pd[\"date\"].dt.day.astype(\"string\").astype(\"category\")\n",
    "    data_pd[\"dayofweek\"] = data_pd[\"date\"].dt.dayofweek.astype(\"string\").astype(\"category\")\n",
    "    data_pd[\"hour\"] = data_pd[\"date\"].dt.hour.astype(\"string\").astype(\"category\")\n",
    "    data_pd[\"minute\"] = data_pd[\"date\"].dt.minute.astype(\"string\").astype(\"category\")\n",
    "    \n",
    "    # add id and segment \n",
    "    data_pd[\"id\"] = data_pd[\"id\"].astype(str).astype(\"string\").astype(\"category\")\n",
    "    data_pd[\"segment\"] = data_pd[\"segment\"].astype(str).astype(\"string\").astype(\"category\")\n",
    "    \n",
    "    # reset index\n",
    "    data_pd = data_pd.reset_index()\n",
    "    data_pd = data_pd.drop(columns=[\"index\"])\n",
    "    return data_pd\n",
    "\n",
    "test_data_pd = read_data(test_data_raw)"
   ]
  },
  {
   "cell_type": "code",
   "execution_count": 14,
   "metadata": {
    "executionInfo": {
     "elapsed": 1428,
     "status": "ok",
     "timestamp": 1637288614435,
     "user": {
      "displayName": "Renat Sergazinov",
      "photoUrl": "https://lh3.googleusercontent.com/a/default-user=s64",
      "userId": "15048760581635637112"
     },
     "user_tz": 360
    },
    "id": "f12ZkPaEwofM"
   },
   "outputs": [],
   "source": [
    "test_data = TimeSeriesDataSet(\n",
    "    test_data_pd,\n",
    "    time_idx=\"timeidx\",\n",
    "    target=\"CGM\",\n",
    "    group_ids=[\"id\", \"segment\"],\n",
    "    max_encoder_length=180,\n",
    "    max_prediction_length=12,\n",
    "    static_categoricals=[\"id\"],\n",
    "    time_varying_known_categoricals= [\"dayofyear\", \n",
    "                                      \"dayofmonth\", \n",
    "                                      \"dayofweek\", \n",
    "                                      \"hour\",\n",
    "                                      \"minute\"],\n",
    "    time_varying_known_reals=[\"timeidx\"],\n",
    "    time_varying_unknown_reals = [\"CGM\"],\n",
    "    target_normalizer=None,\n",
    "    add_relative_time_idx=True,\n",
    "    add_encoder_length=True,\n",
    ")\n",
    "test_dataloader = test_data.to_dataloader(train=False, batch_size=32, num_workers=0)"
   ]
  },
  {
   "cell_type": "code",
   "execution_count": 5,
   "metadata": {
    "colab": {
     "base_uri": "https://localhost:8080/",
     "height": 419
    },
    "executionInfo": {
     "elapsed": 139,
     "status": "ok",
     "timestamp": 1637289478517,
     "user": {
      "displayName": "Renat Sergazinov",
      "photoUrl": "https://lh3.googleusercontent.com/a/default-user=s64",
      "userId": "15048760581635637112"
     },
     "user_tz": 360
    },
    "id": "dA9wVqY9Dg-K",
    "outputId": "f6073c3b-d72b-4549-9b30-945de7519470"
   },
   "outputs": [
    {
     "data": {
      "text/html": [
       "<div>\n",
       "<style scoped>\n",
       "    .dataframe tbody tr th:only-of-type {\n",
       "        vertical-align: middle;\n",
       "    }\n",
       "\n",
       "    .dataframe tbody tr th {\n",
       "        vertical-align: top;\n",
       "    }\n",
       "\n",
       "    .dataframe thead th {\n",
       "        text-align: right;\n",
       "    }\n",
       "</style>\n",
       "<table border=\"1\" class=\"dataframe\">\n",
       "  <thead>\n",
       "    <tr style=\"text-align: right;\">\n",
       "      <th></th>\n",
       "      <th>id</th>\n",
       "      <th>segment</th>\n",
       "      <th>timeidx</th>\n",
       "      <th>CGM</th>\n",
       "      <th>dayofyear</th>\n",
       "      <th>dayofmonth</th>\n",
       "      <th>dayofweek</th>\n",
       "      <th>hour</th>\n",
       "      <th>minute</th>\n",
       "      <th>date</th>\n",
       "    </tr>\n",
       "  </thead>\n",
       "  <tbody>\n",
       "    <tr>\n",
       "      <th>0</th>\n",
       "      <td>0</td>\n",
       "      <td>0</td>\n",
       "      <td>0</td>\n",
       "      <td>-2.362637</td>\n",
       "      <td>259</td>\n",
       "      <td>16</td>\n",
       "      <td>0</td>\n",
       "      <td>23</td>\n",
       "      <td>2</td>\n",
       "      <td>2013-09-16 23:02:00</td>\n",
       "    </tr>\n",
       "    <tr>\n",
       "      <th>1</th>\n",
       "      <td>0</td>\n",
       "      <td>0</td>\n",
       "      <td>1</td>\n",
       "      <td>-2.362637</td>\n",
       "      <td>259</td>\n",
       "      <td>16</td>\n",
       "      <td>0</td>\n",
       "      <td>23</td>\n",
       "      <td>7</td>\n",
       "      <td>2013-09-16 23:07:00</td>\n",
       "    </tr>\n",
       "    <tr>\n",
       "      <th>2</th>\n",
       "      <td>0</td>\n",
       "      <td>0</td>\n",
       "      <td>2</td>\n",
       "      <td>-2.362637</td>\n",
       "      <td>259</td>\n",
       "      <td>16</td>\n",
       "      <td>0</td>\n",
       "      <td>23</td>\n",
       "      <td>12</td>\n",
       "      <td>2013-09-16 23:12:00</td>\n",
       "    </tr>\n",
       "    <tr>\n",
       "      <th>3</th>\n",
       "      <td>0</td>\n",
       "      <td>0</td>\n",
       "      <td>3</td>\n",
       "      <td>-2.390110</td>\n",
       "      <td>259</td>\n",
       "      <td>16</td>\n",
       "      <td>0</td>\n",
       "      <td>23</td>\n",
       "      <td>17</td>\n",
       "      <td>2013-09-16 23:17:00</td>\n",
       "    </tr>\n",
       "    <tr>\n",
       "      <th>4</th>\n",
       "      <td>0</td>\n",
       "      <td>0</td>\n",
       "      <td>4</td>\n",
       "      <td>-2.362637</td>\n",
       "      <td>259</td>\n",
       "      <td>16</td>\n",
       "      <td>0</td>\n",
       "      <td>23</td>\n",
       "      <td>22</td>\n",
       "      <td>2013-09-16 23:22:00</td>\n",
       "    </tr>\n",
       "    <tr>\n",
       "      <th>...</th>\n",
       "      <td>...</td>\n",
       "      <td>...</td>\n",
       "      <td>...</td>\n",
       "      <td>...</td>\n",
       "      <td>...</td>\n",
       "      <td>...</td>\n",
       "      <td>...</td>\n",
       "      <td>...</td>\n",
       "      <td>...</td>\n",
       "      <td>...</td>\n",
       "    </tr>\n",
       "    <tr>\n",
       "      <th>24047</th>\n",
       "      <td>37</td>\n",
       "      <td>51</td>\n",
       "      <td>462</td>\n",
       "      <td>-2.582418</td>\n",
       "      <td>82</td>\n",
       "      <td>23</td>\n",
       "      <td>5</td>\n",
       "      <td>4</td>\n",
       "      <td>23</td>\n",
       "      <td>2013-03-23 04:23:00</td>\n",
       "    </tr>\n",
       "    <tr>\n",
       "      <th>24048</th>\n",
       "      <td>37</td>\n",
       "      <td>51</td>\n",
       "      <td>463</td>\n",
       "      <td>-2.582418</td>\n",
       "      <td>82</td>\n",
       "      <td>23</td>\n",
       "      <td>5</td>\n",
       "      <td>4</td>\n",
       "      <td>28</td>\n",
       "      <td>2013-03-23 04:28:00</td>\n",
       "    </tr>\n",
       "    <tr>\n",
       "      <th>24049</th>\n",
       "      <td>37</td>\n",
       "      <td>51</td>\n",
       "      <td>464</td>\n",
       "      <td>-2.472527</td>\n",
       "      <td>82</td>\n",
       "      <td>23</td>\n",
       "      <td>5</td>\n",
       "      <td>4</td>\n",
       "      <td>33</td>\n",
       "      <td>2013-03-23 04:33:00</td>\n",
       "    </tr>\n",
       "    <tr>\n",
       "      <th>24050</th>\n",
       "      <td>37</td>\n",
       "      <td>51</td>\n",
       "      <td>465</td>\n",
       "      <td>-2.417582</td>\n",
       "      <td>82</td>\n",
       "      <td>23</td>\n",
       "      <td>5</td>\n",
       "      <td>4</td>\n",
       "      <td>38</td>\n",
       "      <td>2013-03-23 04:38:00</td>\n",
       "    </tr>\n",
       "    <tr>\n",
       "      <th>24051</th>\n",
       "      <td>37</td>\n",
       "      <td>51</td>\n",
       "      <td>466</td>\n",
       "      <td>-2.252747</td>\n",
       "      <td>82</td>\n",
       "      <td>23</td>\n",
       "      <td>5</td>\n",
       "      <td>4</td>\n",
       "      <td>43</td>\n",
       "      <td>2013-03-23 04:43:00</td>\n",
       "    </tr>\n",
       "  </tbody>\n",
       "</table>\n",
       "<p>24052 rows × 10 columns</p>\n",
       "</div>"
      ],
      "text/plain": [
       "       id segment  timeidx       CGM dayofyear dayofmonth dayofweek hour  \\\n",
       "0       0       0        0 -2.362637       259         16         0   23   \n",
       "1       0       0        1 -2.362637       259         16         0   23   \n",
       "2       0       0        2 -2.362637       259         16         0   23   \n",
       "3       0       0        3 -2.390110       259         16         0   23   \n",
       "4       0       0        4 -2.362637       259         16         0   23   \n",
       "...    ..     ...      ...       ...       ...        ...       ...  ...   \n",
       "24047  37      51      462 -2.582418        82         23         5    4   \n",
       "24048  37      51      463 -2.582418        82         23         5    4   \n",
       "24049  37      51      464 -2.472527        82         23         5    4   \n",
       "24050  37      51      465 -2.417582        82         23         5    4   \n",
       "24051  37      51      466 -2.252747        82         23         5    4   \n",
       "\n",
       "      minute                date  \n",
       "0          2 2013-09-16 23:02:00  \n",
       "1          7 2013-09-16 23:07:00  \n",
       "2         12 2013-09-16 23:12:00  \n",
       "3         17 2013-09-16 23:17:00  \n",
       "4         22 2013-09-16 23:22:00  \n",
       "...      ...                 ...  \n",
       "24047     23 2013-03-23 04:23:00  \n",
       "24048     28 2013-03-23 04:28:00  \n",
       "24049     33 2013-03-23 04:33:00  \n",
       "24050     38 2013-03-23 04:38:00  \n",
       "24051     43 2013-03-23 04:43:00  \n",
       "\n",
       "[24052 rows x 10 columns]"
      ]
     },
     "execution_count": 5,
     "metadata": {},
     "output_type": "execute_result"
    }
   ],
   "source": [
    "test_data_pd"
   ]
  },
  {
   "cell_type": "code",
   "execution_count": 6,
   "metadata": {},
   "outputs": [
    {
     "name": "stdout",
     "output_type": "stream",
     "text": [
      "<class 'pandas.core.frame.DataFrame'>\n",
      "RangeIndex: 24052 entries, 0 to 24051\n",
      "Data columns (total 10 columns):\n",
      " #   Column      Non-Null Count  Dtype         \n",
      "---  ------      --------------  -----         \n",
      " 0   id          24052 non-null  category      \n",
      " 1   segment     24052 non-null  category      \n",
      " 2   timeidx     24052 non-null  int64         \n",
      " 3   CGM         24052 non-null  float64       \n",
      " 4   dayofyear   24052 non-null  category      \n",
      " 5   dayofmonth  24052 non-null  category      \n",
      " 6   dayofweek   24052 non-null  category      \n",
      " 7   hour        24052 non-null  category      \n",
      " 8   minute      24052 non-null  category      \n",
      " 9   date        24052 non-null  datetime64[ns]\n",
      "dtypes: category(7), datetime64[ns](1), float64(1), int64(1)\n",
      "memory usage: 737.0 KB\n"
     ]
    }
   ],
   "source": [
    "test_data_pd.info()"
   ]
  },
  {
   "cell_type": "markdown",
   "metadata": {
    "id": "0WHByB_sxoXz"
   },
   "source": [
    "## Evaluating Model"
   ]
  },
  {
   "cell_type": "code",
   "execution_count": 5,
   "metadata": {
    "executionInfo": {
     "elapsed": 426,
     "status": "ok",
     "timestamp": 1637288614856,
     "user": {
      "displayName": "Renat Sergazinov",
      "photoUrl": "https://lh3.googleusercontent.com/a/default-user=s64",
      "userId": "15048760581635637112"
     },
     "user_tz": 360
    },
    "id": "ToVl3S4sxHCa"
   },
   "outputs": [],
   "source": [
    "tft = TemporalFusionTransformer.from_dataset(\n",
    "    test_data,\n",
    "    learning_rate=0.001,\n",
    "    hidden_size=160,\n",
    "    attention_head_size=4,\n",
    "    dropout=0.1,\n",
    "    hidden_continuous_size=160,\n",
    "    output_size=7,  # 7 quantiles by default\n",
    "    loss=QuantileLoss(),\n",
    "    log_interval=10,  # uncomment for learning rate finder and otherwise, e.g. to 10 for logging every 10 batches\n",
    "    reduce_on_plateau_patience=4,\n",
    ")\n",
    "tft_fitted = tft.load_from_checkpoint(foldername+'/logs-compare/saved_models/tft.ckpt')"
   ]
  },
  {
   "cell_type": "code",
   "execution_count": 6,
   "metadata": {
    "executionInfo": {
     "elapsed": 229290,
     "status": "ok",
     "timestamp": 1637288844142,
     "user": {
      "displayName": "Renat Sergazinov",
      "photoUrl": "https://lh3.googleusercontent.com/a/default-user=s64",
      "userId": "15048760581635637112"
     },
     "user_tz": 360
    },
    "id": "DJwC3xCowICL"
   },
   "outputs": [],
   "source": [
    "# calcualte mean absolute error on validation set\n",
    "actuals = torch.cat([y[0] for x, y in iter(test_dataloader)])\n",
    "predictions = tft_fitted.predict(test_dataloader)"
   ]
  },
  {
   "cell_type": "code",
   "execution_count": 7,
   "metadata": {
    "executionInfo": {
     "elapsed": 137,
     "status": "ok",
     "timestamp": 1637289360335,
     "user": {
      "displayName": "Renat Sergazinov",
      "photoUrl": "https://lh3.googleusercontent.com/a/default-user=s64",
      "userId": "15048760581635637112"
     },
     "user_tz": 360
    },
    "id": "W2xNuVOW2kiX"
   },
   "outputs": [],
   "source": [
    "# scale predictions\n",
    "UPPER = 402\n",
    "LOWER = 38\n",
    "SCALE_1 = 5\n",
    "SCALE_2 = 2\n",
    "actuals = (actuals + SCALE_1) / (SCALE_1 * SCALE_2) * (UPPER - LOWER) + LOWER\n",
    "predictions = (predictions + SCALE_1) / (SCALE_1 * SCALE_2) * (UPPER - LOWER) + LOWER"
   ]
  },
  {
   "cell_type": "code",
   "execution_count": 8,
   "metadata": {
    "colab": {
     "base_uri": "https://localhost:8080/"
    },
    "executionInfo": {
     "elapsed": 133,
     "status": "ok",
     "timestamp": 1637289414914,
     "user": {
      "displayName": "Renat Sergazinov",
      "photoUrl": "https://lh3.googleusercontent.com/a/default-user=s64",
      "userId": "15048760581635637112"
     },
     "user_tz": 360
    },
    "id": "_EQQyN4Y4I9i",
    "outputId": "4642bc78-41e1-4a70-d438-98583649b1f7"
   },
   "outputs": [
    {
     "data": {
      "text/plain": [
       "tensor([234.0000, 232.0000, 229.5000, 227.0000, 220.0000, 219.0000, 214.0000,\n",
       "        209.0000, 207.0000, 196.0000, 195.0000, 184.0000])"
      ]
     },
     "execution_count": 8,
     "metadata": {},
     "output_type": "execute_result"
    }
   ],
   "source": [
    "actuals[1]"
   ]
  },
  {
   "cell_type": "code",
   "execution_count": 9,
   "metadata": {
    "colab": {
     "base_uri": "https://localhost:8080/"
    },
    "executionInfo": {
     "elapsed": 142,
     "status": "ok",
     "timestamp": 1637289412503,
     "user": {
      "displayName": "Renat Sergazinov",
      "photoUrl": "https://lh3.googleusercontent.com/a/default-user=s64",
      "userId": "15048760581635637112"
     },
     "user_tz": 360
    },
    "id": "K4SYCvwB_ZWC",
    "outputId": "03c23377-0b33-4b05-f215-2cb684320c34"
   },
   "outputs": [
    {
     "data": {
      "text/plain": [
       "tensor([231.5124, 228.8256, 226.4629, 223.4963, 220.5917, 217.6724, 214.7961,\n",
       "        212.0831, 209.0318, 206.1016, 203.2808, 200.3548], dtype=torch.float64)"
      ]
     },
     "execution_count": 9,
     "metadata": {},
     "output_type": "execute_result"
    }
   ],
   "source": [
    "predictions[1]"
   ]
  },
  {
   "cell_type": "code",
   "execution_count": 11,
   "metadata": {
    "id": "b73uHLiGDTGq"
   },
   "outputs": [
    {
     "data": {
      "text/plain": [
       "tensor(0.0777, dtype=torch.float64)"
      ]
     },
     "execution_count": 11,
     "metadata": {},
     "output_type": "execute_result"
    }
   ],
   "source": [
    "((actuals - predictions).abs() / actuals.abs()).mean(axis=1).median()"
   ]
  },
  {
   "cell_type": "code",
   "execution_count": 25,
   "metadata": {},
   "outputs": [],
   "source": [
    "raw_predictions, x = tft_fitted.predict(test_dataloader, mode=\"raw\", return_x=True)"
   ]
  },
  {
   "cell_type": "code",
   "execution_count": 30,
   "metadata": {},
   "outputs": [
    {
     "data": {
      "image/png": "[encoded data removed]",
      "text/plain": [
       "<Figure size 640x480 with 2 Axes>"
      ]
     },
     "execution_count": 30,
     "metadata": {},
     "output_type": "execute_result"
    }
   ],
   "source": [
    "tft_fitted.plot_prediction(x, raw_predictions, idx=0, add_loss_to_title=True)"
   ]
  },
  {
   "cell_type": "code",
   "execution_count": 29,
   "metadata": {},
   "outputs": [
    {
     "data": {
      "text/plain": [
       "tensor([[ 0.3771,  0.5184,  0.6524,  0.7685,  0.8915,  1.0177,  1.3682],\n",
       "        [ 0.0595,  0.3347,  0.5428,  0.7309,  0.9071,  1.0973,  1.5501],\n",
       "        [-0.2119,  0.1794,  0.4503,  0.6975,  0.9192,  1.1649,  1.6973],\n",
       "        [-0.4606,  0.0279,  0.3553,  0.6578,  0.9240,  1.2163,  1.8158],\n",
       "        [-0.7088, -0.1269,  0.2548,  0.6070,  0.9113,  1.2503,  1.9231],\n",
       "        [-0.9289, -0.2754,  0.1571,  0.5573,  0.9002,  1.2779,  2.0057],\n",
       "        [-1.1424, -0.4214,  0.0616,  0.5096,  0.8908,  1.3144,  2.1085],\n",
       "        [-1.3454, -0.5658, -0.0324,  0.4614,  0.8817,  1.3420,  2.1873],\n",
       "        [-1.5569, -0.7146, -0.1290,  0.4132,  0.8718,  1.3730,  2.2659],\n",
       "        [-1.7454, -0.8542, -0.2310,  0.3533,  0.8483,  1.3802,  2.3122],\n",
       "        [-1.9420, -0.9999, -0.3319,  0.3004,  0.8318,  1.4039,  2.3882],\n",
       "        [-2.1623, -1.1636, -0.4446,  0.2391,  0.8067,  1.4124,  2.4305]],\n",
       "       dtype=torch.float64)"
      ]
     },
     "execution_count": 29,
     "metadata": {},
     "output_type": "execute_result"
    }
   ],
   "source": [
    "raw_predictions['prediction'][0, :, :]"
   ]
  },
  {
   "cell_type": "code",
   "execution_count": null,
   "metadata": {},
   "outputs": [],
   "source": []
  }
 ],
 "metadata": {
  "colab": {
   "authorship_tag": "ABX9TyO/gmFmrvaN9aup2mfvIKyu",
   "name": "tft-eval.ipynb",
   "provenance": []
  },
  "kernelspec": {
   "display_name": "Python 3",
   "language": "python",
   "name": "python3"
  },
  "language_info": {
   "codemirror_mode": {
    "name": "ipython",
    "version": 3
   },
   "file_extension": ".py",
   "mimetype": "text/x-python",
   "name": "python",
   "nbconvert_exporter": "python",
   "pygments_lexer": "ipython3",
   "version": "3.9.6"
  }
 },
 "nbformat": 4,
 "nbformat_minor": 1
}
