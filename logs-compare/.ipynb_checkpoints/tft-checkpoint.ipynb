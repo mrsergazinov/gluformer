{
 "cells": [
  {
   "cell_type": "markdown",
   "metadata": {
    "id": "Hy8rV-06wx3C"
   },
   "source": [
    "## Libraries"
   ]
  },
  {
   "cell_type": "code",
   "execution_count": null,
   "metadata": {
    "colab": {
     "base_uri": "https://localhost:8080/"
    },
    "executionInfo": {
     "elapsed": 1327,
     "status": "ok",
     "timestamp": 1637339321658,
     "user": {
      "displayName": "Renat Sergazinov",
      "photoUrl": "https://lh3.googleusercontent.com/a/default-user=s64",
      "userId": "15048760581635637112"
     },
     "user_tz": 360
    },
    "id": "eSVW7hlOT3CM",
    "outputId": "72c2bdc8-2c91-4fc0-d11d-22d73e660f8b"
   },
   "outputs": [],
   "source": [
    "# This mounts your Google Drive to the Colab VM.\n",
    "from google.colab import drive\n",
    "drive.mount('/content/drive', force_remount=True)\n",
    "\n",
    "foldername = '/content/drive/My Drive/github/gluformer/'\n",
    "assert foldername is not None, \"[!] Enter the foldername.\"\n",
    "\n",
    "# add path to .py code\n",
    "import sys\n",
    "sys.path.append(foldername)"
   ]
  },
  {
   "cell_type": "code",
   "execution_count": null,
   "metadata": {
    "executionInfo": {
     "elapsed": 11875,
     "status": "ok",
     "timestamp": 1637339333530,
     "user": {
      "displayName": "Renat Sergazinov",
      "photoUrl": "https://lh3.googleusercontent.com/a/default-user=s64",
      "userId": "15048760581635637112"
     },
     "user_tz": 360
    },
    "id": "cFOJqovPVRZM"
   },
   "outputs": [],
   "source": [
    "%%capture\n",
    "!pip install pytorch-lightning==1.4.9\n",
    "!pip install pytorch-forecasting\n",
    "!pip install pandas --upgrade"
   ]
  },
  {
   "cell_type": "code",
   "execution_count": 1,
   "metadata": {
    "colab": {
     "base_uri": "https://localhost:8080/"
    },
    "executionInfo": {
     "elapsed": 5017,
     "status": "ok",
     "timestamp": 1637339338532,
     "user": {
      "displayName": "Renat Sergazinov",
      "photoUrl": "https://lh3.googleusercontent.com/a/default-user=s64",
      "userId": "15048760581635637112"
     },
     "user_tz": 360
    },
    "id": "6iLQap4UVZAY",
    "outputId": "303f19bb-87c9-46a6-ca7f-a26607b2a747"
   },
   "outputs": [],
   "source": [
    "import numpy as np\n",
    "import pandas as pd\n",
    "import os\n",
    "import pickle\n",
    "\n",
    "import pytorch_lightning as pl\n",
    "from pytorch_lightning.callbacks import EarlyStopping, LearningRateMonitor\n",
    "from pytorch_lightning.loggers import TensorBoardLogger\n",
    "import torch\n",
    "\n",
    "from pytorch_forecasting import Baseline, TemporalFusionTransformer, TimeSeriesDataSet\n",
    "from pytorch_forecasting.data import GroupNormalizer\n",
    "from pytorch_forecasting.metrics import SMAPE, PoissonLoss, QuantileLoss\n",
    "from pytorch_forecasting.models.temporal_fusion_transformer.tuning import optimize_hyperparameters\n",
    "\n",
    "import tensorflow as tf \n",
    "import tensorboard as tb \n",
    "tf.io.gfile = tb.compat.tensorflow_stub.io.gfile"
   ]
  },
  {
   "cell_type": "markdown",
   "metadata": {
    "id": "c7cfUAdPw3JP"
   },
   "source": [
    "## Preprocessing Data"
   ]
  },
  {
   "cell_type": "code",
   "execution_count": 2,
   "metadata": {
    "executionInfo": {
     "elapsed": 140,
     "status": "ok",
     "timestamp": 1637339338658,
     "user": {
      "displayName": "Renat Sergazinov",
      "photoUrl": "https://lh3.googleusercontent.com/a/default-user=s64",
      "userId": "15048760581635637112"
     },
     "user_tz": 360
    },
    "id": "mr735k3bVgLK"
   },
   "outputs": [],
   "source": [
    "foldername = '/home/mrsergazinov/python-git-workspace/gluformer/'\n",
    "\n",
    "path = foldername + 'gludata/data'\n",
    "with open(path+\"/train_data_pyforecast.pkl\", 'rb') as f:\n",
    "      train_data_raw = pickle.load(f)\n",
    "with open(path+\"/val_data_pyforecast.pkl\", 'rb') as f:\n",
    "      val_data_raw = pickle.load(f)"
   ]
  },
  {
   "cell_type": "code",
   "execution_count": 4,
   "metadata": {
    "colab": {
     "base_uri": "https://localhost:8080/",
     "height": 358
    },
    "executionInfo": {
     "elapsed": 299617,
     "status": "error",
     "timestamp": 1637339638273,
     "user": {
      "displayName": "Renat Sergazinov",
      "photoUrl": "https://lh3.googleusercontent.com/a/default-user=s64",
      "userId": "15048760581635637112"
     },
     "user_tz": 360
    },
    "id": "e8MygJ1cWL57",
    "outputId": "f8b0a2eb-4dd9-4675-9c85-07897b7d382e"
   },
   "outputs": [],
   "source": [
    "def read_data(data):\n",
    "    data_len = sum([len(data[i][1]) for i in range(len(data))])\n",
    "    data_pd = pd.DataFrame(index = range(data_len),\n",
    "                           columns = [\"id\", \"segment\", \"timeidx\", \"CGM\", \n",
    "                                      \"dayofyear\", \"dayofmonth\", \"dayofweek\", \"hour\", \n",
    "                                      \"minute\", \"date\"])\n",
    "    start = 0\n",
    "    for i in range(len(data)):\n",
    "        block_len = len(data[i][1]) \n",
    "        data_pd[\"id\"][start:(start+block_len)] = [data[i][0]] * block_len\n",
    "        data_pd[\"segment\"][start:(start+block_len)] = [str(i)] * block_len \n",
    "        data_pd[\"timeidx\"][start:(start+block_len)] = range(block_len)\n",
    "        data_pd[\"CGM\"][start:(start+block_len)] = data[i][1].flatten() \n",
    "        data_pd[\"date\"][start:(start+block_len)] = data[i][3]\n",
    "        start += block_len\n",
    "    \n",
    "    # set format\n",
    "    data_pd[\"timeidx\"] = data_pd[\"timeidx\"].astype(\"int\")\n",
    "    data_pd[\"CGM\"] = data_pd[\"CGM\"].astype(\"float\")\n",
    "    \n",
    "    #extract time features\n",
    "    data_pd[\"date\"] = pd.to_datetime(data_pd[\"date\"])\n",
    "    data_pd[\"dayofyear\"] = data_pd[\"date\"].dt.dayofyear.astype(\"category\")\n",
    "    data_pd[\"dayofmonth\"] = data_pd[\"date\"].dt.day.astype(\"category\")\n",
    "    data_pd[\"dayofweek\"] = data_pd[\"date\"].dt.dayofweek.astype(\"category\")\n",
    "    data_pd[\"hour\"] = data_pd[\"date\"].dt.hour.astype(\"category\")\n",
    "    data_pd[\"minute\"] = data_pd[\"date\"].dt.minute.astype(\"category\")\n",
    "    \n",
    "    # add id and segment \n",
    "    data_pd[\"id\"] = data_pd[\"id\"].astype(str).astype(\"category\")\n",
    "    data_pd[\"segment\"] = data_pd[\"segment\"].astype(str).astype(\"category\")\n",
    "    \n",
    "    # reset index\n",
    "    data_pd = data_pd.reset_index()\n",
    "    data_pd = data_pd.drop(columns=[\"index\"])\n",
    "    return data_pd\n",
    "\n",
    "train_data_pd = read_data(train_data_raw)\n",
    "val_data_pd = read_data(val_data_raw)"
   ]
  },
  {
   "cell_type": "code",
   "execution_count": 5,
   "metadata": {},
   "outputs": [
    {
     "data": {
      "text/html": [
       "<div>\n",
       "<style scoped>\n",
       "    .dataframe tbody tr th:only-of-type {\n",
       "        vertical-align: middle;\n",
       "    }\n",
       "\n",
       "    .dataframe tbody tr th {\n",
       "        vertical-align: top;\n",
       "    }\n",
       "\n",
       "    .dataframe thead th {\n",
       "        text-align: right;\n",
       "    }\n",
       "</style>\n",
       "<table border=\"1\" class=\"dataframe\">\n",
       "  <thead>\n",
       "    <tr style=\"text-align: right;\">\n",
       "      <th></th>\n",
       "      <th>id</th>\n",
       "      <th>segment</th>\n",
       "      <th>timeidx</th>\n",
       "      <th>CGM</th>\n",
       "      <th>dayofyear</th>\n",
       "      <th>dayofmonth</th>\n",
       "      <th>dayofweek</th>\n",
       "      <th>hour</th>\n",
       "      <th>minute</th>\n",
       "      <th>date</th>\n",
       "    </tr>\n",
       "  </thead>\n",
       "  <tbody>\n",
       "    <tr>\n",
       "      <th>0</th>\n",
       "      <td>0</td>\n",
       "      <td>0</td>\n",
       "      <td>0</td>\n",
       "      <td>-2.664835</td>\n",
       "      <td>274</td>\n",
       "      <td>1</td>\n",
       "      <td>4</td>\n",
       "      <td>17</td>\n",
       "      <td>17</td>\n",
       "      <td>2010-10-01 17:17:00</td>\n",
       "    </tr>\n",
       "    <tr>\n",
       "      <th>1</th>\n",
       "      <td>0</td>\n",
       "      <td>0</td>\n",
       "      <td>1</td>\n",
       "      <td>-2.637363</td>\n",
       "      <td>274</td>\n",
       "      <td>1</td>\n",
       "      <td>4</td>\n",
       "      <td>17</td>\n",
       "      <td>22</td>\n",
       "      <td>2010-10-01 17:22:00</td>\n",
       "    </tr>\n",
       "    <tr>\n",
       "      <th>2</th>\n",
       "      <td>0</td>\n",
       "      <td>0</td>\n",
       "      <td>2</td>\n",
       "      <td>-2.692308</td>\n",
       "      <td>274</td>\n",
       "      <td>1</td>\n",
       "      <td>4</td>\n",
       "      <td>17</td>\n",
       "      <td>27</td>\n",
       "      <td>2010-10-01 17:27:00</td>\n",
       "    </tr>\n",
       "    <tr>\n",
       "      <th>3</th>\n",
       "      <td>0</td>\n",
       "      <td>0</td>\n",
       "      <td>3</td>\n",
       "      <td>-2.747253</td>\n",
       "      <td>274</td>\n",
       "      <td>1</td>\n",
       "      <td>4</td>\n",
       "      <td>17</td>\n",
       "      <td>32</td>\n",
       "      <td>2010-10-01 17:32:00</td>\n",
       "    </tr>\n",
       "    <tr>\n",
       "      <th>4</th>\n",
       "      <td>0</td>\n",
       "      <td>0</td>\n",
       "      <td>4</td>\n",
       "      <td>-3.214286</td>\n",
       "      <td>274</td>\n",
       "      <td>1</td>\n",
       "      <td>4</td>\n",
       "      <td>17</td>\n",
       "      <td>37</td>\n",
       "      <td>2010-10-01 17:37:00</td>\n",
       "    </tr>\n",
       "    <tr>\n",
       "      <th>...</th>\n",
       "      <td>...</td>\n",
       "      <td>...</td>\n",
       "      <td>...</td>\n",
       "      <td>...</td>\n",
       "      <td>...</td>\n",
       "      <td>...</td>\n",
       "      <td>...</td>\n",
       "      <td>...</td>\n",
       "      <td>...</td>\n",
       "      <td>...</td>\n",
       "    </tr>\n",
       "    <tr>\n",
       "      <th>364471</th>\n",
       "      <td>37</td>\n",
       "      <td>488</td>\n",
       "      <td>215</td>\n",
       "      <td>-0.879121</td>\n",
       "      <td>79</td>\n",
       "      <td>20</td>\n",
       "      <td>2</td>\n",
       "      <td>13</td>\n",
       "      <td>18</td>\n",
       "      <td>2013-03-20 13:18:00</td>\n",
       "    </tr>\n",
       "    <tr>\n",
       "      <th>364472</th>\n",
       "      <td>37</td>\n",
       "      <td>488</td>\n",
       "      <td>216</td>\n",
       "      <td>-0.769231</td>\n",
       "      <td>79</td>\n",
       "      <td>20</td>\n",
       "      <td>2</td>\n",
       "      <td>13</td>\n",
       "      <td>23</td>\n",
       "      <td>2013-03-20 13:23:00</td>\n",
       "    </tr>\n",
       "    <tr>\n",
       "      <th>364473</th>\n",
       "      <td>37</td>\n",
       "      <td>488</td>\n",
       "      <td>217</td>\n",
       "      <td>-0.824176</td>\n",
       "      <td>79</td>\n",
       "      <td>20</td>\n",
       "      <td>2</td>\n",
       "      <td>13</td>\n",
       "      <td>28</td>\n",
       "      <td>2013-03-20 13:28:00</td>\n",
       "    </tr>\n",
       "    <tr>\n",
       "      <th>364474</th>\n",
       "      <td>37</td>\n",
       "      <td>488</td>\n",
       "      <td>218</td>\n",
       "      <td>-0.741758</td>\n",
       "      <td>79</td>\n",
       "      <td>20</td>\n",
       "      <td>2</td>\n",
       "      <td>13</td>\n",
       "      <td>33</td>\n",
       "      <td>2013-03-20 13:33:00</td>\n",
       "    </tr>\n",
       "    <tr>\n",
       "      <th>364475</th>\n",
       "      <td>37</td>\n",
       "      <td>488</td>\n",
       "      <td>219</td>\n",
       "      <td>-0.851648</td>\n",
       "      <td>79</td>\n",
       "      <td>20</td>\n",
       "      <td>2</td>\n",
       "      <td>13</td>\n",
       "      <td>38</td>\n",
       "      <td>2013-03-20 13:38:00</td>\n",
       "    </tr>\n",
       "  </tbody>\n",
       "</table>\n",
       "<p>364476 rows × 10 columns</p>\n",
       "</div>"
      ],
      "text/plain": [
       "        id segment  timeidx       CGM dayofyear dayofmonth dayofweek hour  \\\n",
       "0        0       0        0 -2.664835       274          1         4   17   \n",
       "1        0       0        1 -2.637363       274          1         4   17   \n",
       "2        0       0        2 -2.692308       274          1         4   17   \n",
       "3        0       0        3 -2.747253       274          1         4   17   \n",
       "4        0       0        4 -3.214286       274          1         4   17   \n",
       "...     ..     ...      ...       ...       ...        ...       ...  ...   \n",
       "364471  37     488      215 -0.879121        79         20         2   13   \n",
       "364472  37     488      216 -0.769231        79         20         2   13   \n",
       "364473  37     488      217 -0.824176        79         20         2   13   \n",
       "364474  37     488      218 -0.741758        79         20         2   13   \n",
       "364475  37     488      219 -0.851648        79         20         2   13   \n",
       "\n",
       "       minute                date  \n",
       "0          17 2010-10-01 17:17:00  \n",
       "1          22 2010-10-01 17:22:00  \n",
       "2          27 2010-10-01 17:27:00  \n",
       "3          32 2010-10-01 17:32:00  \n",
       "4          37 2010-10-01 17:37:00  \n",
       "...       ...                 ...  \n",
       "364471     18 2013-03-20 13:18:00  \n",
       "364472     23 2013-03-20 13:23:00  \n",
       "364473     28 2013-03-20 13:28:00  \n",
       "364474     33 2013-03-20 13:33:00  \n",
       "364475     38 2013-03-20 13:38:00  \n",
       "\n",
       "[364476 rows x 10 columns]"
      ]
     },
     "execution_count": 5,
     "metadata": {},
     "output_type": "execute_result"
    }
   ],
   "source": [
    "train_data_pd"
   ]
  },
  {
   "cell_type": "code",
   "execution_count": 6,
   "metadata": {},
   "outputs": [
    {
     "name": "stdout",
     "output_type": "stream",
     "text": [
      "<class 'pandas.core.frame.DataFrame'>\n",
      "RangeIndex: 364476 entries, 0 to 364475\n",
      "Data columns (total 10 columns):\n",
      " #   Column      Non-Null Count   Dtype         \n",
      "---  ------      --------------   -----         \n",
      " 0   id          364476 non-null  category      \n",
      " 1   segment     364476 non-null  category      \n",
      " 2   timeidx     364476 non-null  int64         \n",
      " 3   CGM         364476 non-null  float64       \n",
      " 4   dayofyear   364476 non-null  category      \n",
      " 5   dayofmonth  364476 non-null  category      \n",
      " 6   dayofweek   364476 non-null  category      \n",
      " 7   hour        364476 non-null  category      \n",
      " 8   minute      364476 non-null  category      \n",
      " 9   date        364476 non-null  datetime64[ns]\n",
      "dtypes: category(7), datetime64[ns](1), float64(1), int64(1)\n",
      "memory usage: 11.2 MB\n"
     ]
    }
   ],
   "source": [
    "train_data_pd.info()"
   ]
  },
  {
   "cell_type": "code",
   "execution_count": 7,
   "metadata": {
    "id": "ivin0dj-lw2X"
   },
   "outputs": [],
   "source": [
    "train_data = TimeSeriesDataSet(\n",
    "    train_data_pd,\n",
    "    time_idx=\"timeidx\",\n",
    "    target=\"CGM\",\n",
    "    group_ids=[\"id\", \"segment\"],\n",
    "    max_encoder_length=180,\n",
    "    max_prediction_length=12,\n",
    "    static_categoricals=[\"id\"],\n",
    "    time_varying_known_reals=[\"timeidx\", \n",
    "                              \"dayofyear\", \n",
    "                              \"dayofmonth\", \n",
    "                              \"dayofweek\", \n",
    "                              \"hour\", \n",
    "                              \"minute\"],\n",
    "    target_normalizer=None,\n",
    ")\n",
    "train_dataloader = train_data.to_dataloader(train=True, batch_size=32, num_workers=24)\n",
    "\n",
    "\n",
    "val_data = TimeSeriesDataSet(\n",
    "    val_data_pd,\n",
    "    time_idx=\"timeidx\",\n",
    "    target=\"CGM\",\n",
    "    group_ids=[\"id\", \"segment\"],\n",
    "    max_encoder_length=180,\n",
    "    max_prediction_length=12,\n",
    "    static_categoricals=[\"id\"],\n",
    "    time_varying_known_reals=[\"timeidx\", \n",
    "                              \"dayofyear\", \n",
    "                              \"dayofmonth\", \n",
    "                              \"dayofweek\", \n",
    "                              \"hour\", \n",
    "                              \"minute\"],\n",
    "    target_normalizer=None,\n",
    ")\n",
    "val_dataloader = val_data.to_dataloader(train=False, batch_size=32, num_workers=24)"
   ]
  },
  {
   "cell_type": "markdown",
   "metadata": {
    "id": "dMkVyKTvw7cf"
   },
   "source": [
    "## Training the model"
   ]
  },
  {
   "cell_type": "code",
   "execution_count": 8,
   "metadata": {
    "colab": {
     "base_uri": "https://localhost:8080/"
    },
    "executionInfo": {
     "elapsed": 232,
     "status": "ok",
     "timestamp": 1637167739652,
     "user": {
      "displayName": "Renat Sergazinov",
      "photoUrl": "https://lh3.googleusercontent.com/a/default-user=s64",
      "userId": "15048760581635637112"
     },
     "user_tz": 360
    },
    "id": "3i-cTxMtuRnB",
    "outputId": "4dd5b75f-44a5-4459-cfb9-8785ad0b3047"
   },
   "outputs": [
    {
     "name": "stderr",
     "output_type": "stream",
     "text": [
      "GPU available: True, used: True\n",
      "TPU available: False, using: 0 TPU cores\n",
      "IPU available: False, using: 0 IPUs\n"
     ]
    },
    {
     "name": "stdout",
     "output_type": "stream",
     "text": [
      "Number of parameters in network: 2535.9k\n"
     ]
    }
   ],
   "source": [
    "# configure network and trainer\n",
    "early_stop_callback = EarlyStopping(monitor=\"val_loss\", min_delta=1e-4, patience=5, verbose=False, mode=\"min\")\n",
    "lr_logger = LearningRateMonitor()  # log the learning rate\n",
    "logger = TensorBoardLogger(\"lightning_logs\")  # logging results to a tensorboard\n",
    "\n",
    "trainer = pl.Trainer(\n",
    "    max_epochs=100,\n",
    "    gpus=1,\n",
    "    weights_summary=\"top\",\n",
    "    callbacks=[lr_logger, early_stop_callback],\n",
    "    logger=logger,\n",
    ")\n",
    "\n",
    "\n",
    "tft = TemporalFusionTransformer.from_dataset(\n",
    "    train_data,\n",
    "    learning_rate=0.001,\n",
    "    hidden_size=160,\n",
    "    attention_head_size=4,\n",
    "    dropout=0.1,\n",
    "    hidden_continuous_size=160,\n",
    "    output_size=7,  # 7 quantiles by default\n",
    "    loss=QuantileLoss(),\n",
    "    log_interval=10,  # uncomment for learning rate finder and otherwise, e.g. to 10 for logging every 10 batches\n",
    "    reduce_on_plateau_patience=4,\n",
    ")\n",
    "print(f\"Number of parameters in network: {tft.size()/1e3:.1f}k\")"
   ]
  },
  {
   "cell_type": "code",
   "execution_count": 9,
   "metadata": {
    "colab": {
     "base_uri": "https://localhost:8080/",
     "height": 659,
     "referenced_widgets": [
      "d925157f66da4e528c37d35d8b8d6f53",
      "685fdda4ba6d4058aafa721cd5ef6c56",
      "149853bdda75412baab01312d6a8eaf1",
      "e2b3d786535d40a4b2f7642021192779",
      "77f00bf0820a483c9516ea8842984b21",
      "b16713f79ae74bd6a505b6361ef73597",
      "adbad04d6d8b4c899261f2de886aebdc",
      "9982d3de256c4f6590622e4519cedd8d",
      "534117316f304719b8131ebc1c827b5a",
      "7cb51d5803424c2faca62100ba7c2cda",
      "0569b8be09b64e46b3818a763a5715e2",
      "ca25eb446ae24eac9beea1a887620b44",
      "2b51862bc5294949bc7d47f23ac0234e",
      "6e1ff9e0a6ec4ed3af6ffde32c267872",
      "e56524b32cac4653bebbda995aa8f43d",
      "43a96f995d274f3d8ca49d54ba73db66",
      "8c363d47b1d04301a72d1cfce20ab0bc",
      "d673abb3b63a44f0b784fa585207824a",
      "1872af1b39e945a1909fa93dd557bc38",
      "7cce2fb34c2d4c659d0dcd1452092241",
      "d47c3c4a616a4e9ba2acbb7fd4d4bd8d",
      "7e6e595fa9fa4d65b598daaa64b8397f",
      "",
      "af9179346ddf4dc3b224a3ca8cf57ac0"
     ]
    },
    "id": "JNH3aqEs5w89",
    "outputId": "03257e63-b0bc-4c36-e9f0-2fc301413916"
   },
   "outputs": [
    {
     "name": "stderr",
     "output_type": "stream",
     "text": [
      "/home/mrsergazinov/anaconda3/envs/torch/lib/python3.9/site-packages/pytorch_lightning/trainer/trainer.py:530: LightningDeprecationWarning: `trainer.fit(train_dataloader)` is deprecated in v1.4 and will be removed in v1.6. Use `trainer.fit(train_dataloaders)` instead. HINT: added 's'\n",
      "  rank_zero_deprecation(\n",
      "LOCAL_RANK: 0 - CUDA_VISIBLE_DEVICES: [0]\n",
      "\n",
      "   | Name                               | Type                            | Params\n",
      "----------------------------------------------------------------------------------------\n",
      "0  | loss                               | QuantileLoss                    | 0     \n",
      "1  | logging_metrics                    | ModuleList                      | 0     \n",
      "2  | input_embeddings                   | MultiEmbedding                  | 456   \n",
      "3  | prescalers                         | ModuleDict                      | 1.9 K \n",
      "4  | static_variable_selection          | VariableSelectionNetwork        | 480   \n",
      "5  | encoder_variable_selection         | VariableSelectionNetwork        | 628 K \n",
      "6  | decoder_variable_selection         | VariableSelectionNetwork        | 628 K \n",
      "7  | static_context_variable_selection  | GatedResidualNetwork            | 103 K \n",
      "8  | static_context_initial_hidden_lstm | GatedResidualNetwork            | 103 K \n",
      "9  | static_context_initial_cell_lstm   | GatedResidualNetwork            | 103 K \n",
      "10 | static_context_enrichment          | GatedResidualNetwork            | 103 K \n",
      "11 | lstm_encoder                       | LSTM                            | 206 K \n",
      "12 | lstm_decoder                       | LSTM                            | 206 K \n",
      "13 | post_lstm_gate_encoder             | GatedLinearUnit                 | 51.5 K\n",
      "14 | post_lstm_add_norm_encoder         | AddNorm                         | 320   \n",
      "15 | static_enrichment                  | GatedResidualNetwork            | 128 K \n",
      "16 | multihead_attn                     | InterpretableMultiHeadAttention | 64.4 K\n",
      "17 | post_attn_gate_norm                | GateAddNorm                     | 51.8 K\n",
      "18 | pos_wise_ff                        | GatedResidualNetwork            | 103 K \n",
      "19 | pre_output_gate_norm               | GateAddNorm                     | 51.8 K\n",
      "20 | output_layer                       | Linear                          | 1.1 K \n",
      "----------------------------------------------------------------------------------------\n",
      "2.5 M     Trainable params\n",
      "0         Non-trainable params\n",
      "2.5 M     Total params\n",
      "10.143    Total estimated model params size (MB)\n"
     ]
    },
    {
     "data": {
      "application/vnd.jupyter.widget-view+json": {
       "model_id": "",
       "version_major": 2,
       "version_minor": 0
      },
      "text/plain": [
       "Validation sanity check: 0it [00:00, ?it/s]"
      ]
     },
     "metadata": {},
     "output_type": "display_data"
    },
    {
     "data": {
      "application/vnd.jupyter.widget-view+json": {
       "model_id": "f631e4af0c634b0caa4b112d0dd9ed74",
       "version_major": 2,
       "version_minor": 0
      },
      "text/plain": [
       "Training: -1it [00:00, ?it/s]"
      ]
     },
     "metadata": {},
     "output_type": "display_data"
    },
    {
     "data": {
      "application/vnd.jupyter.widget-view+json": {
       "model_id": "",
       "version_major": 2,
       "version_minor": 0
      },
      "text/plain": [
       "Validating: 0it [00:00, ?it/s]"
      ]
     },
     "metadata": {},
     "output_type": "display_data"
    },
    {
     "data": {
      "application/vnd.jupyter.widget-view+json": {
       "model_id": "",
       "version_major": 2,
       "version_minor": 0
      },
      "text/plain": [
       "Validating: 0it [00:00, ?it/s]"
      ]
     },
     "metadata": {},
     "output_type": "display_data"
    },
    {
     "data": {
      "application/vnd.jupyter.widget-view+json": {
       "model_id": "",
       "version_major": 2,
       "version_minor": 0
      },
      "text/plain": [
       "Validating: 0it [00:00, ?it/s]"
      ]
     },
     "metadata": {},
     "output_type": "display_data"
    },
    {
     "data": {
      "application/vnd.jupyter.widget-view+json": {
       "model_id": "",
       "version_major": 2,
       "version_minor": 0
      },
      "text/plain": [
       "Validating: 0it [00:00, ?it/s]"
      ]
     },
     "metadata": {},
     "output_type": "display_data"
    },
    {
     "data": {
      "application/vnd.jupyter.widget-view+json": {
       "model_id": "",
       "version_major": 2,
       "version_minor": 0
      },
      "text/plain": [
       "Validating: 0it [00:00, ?it/s]"
      ]
     },
     "metadata": {},
     "output_type": "display_data"
    },
    {
     "data": {
      "application/vnd.jupyter.widget-view+json": {
       "model_id": "",
       "version_major": 2,
       "version_minor": 0
      },
      "text/plain": [
       "Validating: 0it [00:00, ?it/s]"
      ]
     },
     "metadata": {},
     "output_type": "display_data"
    }
   ],
   "source": [
    "# fit network\n",
    "trainer.fit(\n",
    "    tft,\n",
    "    train_dataloader=train_dataloader,\n",
    "    val_dataloaders=val_dataloader,\n",
    ")"
   ]
  },
  {
   "cell_type": "code",
   "execution_count": 10,
   "metadata": {
    "id": "_AYKtuDnkbk2"
   },
   "outputs": [],
   "source": [
    "trainer.save_checkpoint(os.getcwd()+'/tft.ckpt')"
   ]
  },
  {
   "cell_type": "code",
   "execution_count": null,
   "metadata": {
    "id": "AVU7UgAJkbk2"
   },
   "outputs": [],
   "source": [
    "tft_fitted = tft.load_from_checkpoint(os.getcwd()+'/tft.ckpt')"
   ]
  },
  {
   "cell_type": "code",
   "execution_count": null,
   "metadata": {
    "id": "ghackwBXkblA"
   },
   "outputs": [],
   "source": []
  }
 ],
 "metadata": {
  "accelerator": "GPU",
  "colab": {
   "collapsed_sections": [],
   "name": "tft.ipynb",
   "provenance": []
  },
  "kernelspec": {
   "display_name": "Python 3",
   "language": "python",
   "name": "python3"
  },
  "language_info": {
   "codemirror_mode": {
    "name": "ipython",
    "version": 3
   },
   "file_extension": ".py",
   "mimetype": "text/x-python",
   "name": "python",
   "nbconvert_exporter": "python",
   "pygments_lexer": "ipython3",
   "version": "3.9.6"
  },
  "widgets": {
   "application/vnd.jupyter.widget-state+json": {
    "0569b8be09b64e46b3818a763a5715e2": {
     "model_module": "@jupyter-widgets/base",
     "model_module_version": "1.2.0",
     "model_name": "LayoutModel",
     "state": {
      "_model_module": "@jupyter-widgets/base",
      "_model_module_version": "1.2.0",
      "_model_name": "LayoutModel",
      "_view_count": null,
      "_view_module": "@jupyter-widgets/base",
      "_view_module_version": "1.2.0",
      "_view_name": "LayoutView",
      "align_content": null,
      "align_items": null,
      "align_self": null,
      "border": null,
      "bottom": null,
      "display": null,
      "flex": null,
      "flex_flow": null,
      "grid_area": null,
      "grid_auto_columns": null,
      "grid_auto_flow": null,
      "grid_auto_rows": null,
      "grid_column": null,
      "grid_gap": null,
      "grid_row": null,
      "grid_template_areas": null,
      "grid_template_columns": null,
      "grid_template_rows": null,
      "height": null,
      "justify_content": null,
      "justify_items": null,
      "left": null,
      "margin": null,
      "max_height": null,
      "max_width": null,
      "min_height": null,
      "min_width": null,
      "object_fit": null,
      "object_position": null,
      "order": null,
      "overflow": null,
      "overflow_x": null,
      "overflow_y": null,
      "padding": null,
      "right": null,
      "top": null,
      "visibility": null,
      "width": null
     }
    },
    "149853bdda75412baab01312d6a8eaf1": {
     "model_module": "@jupyter-widgets/controls",
     "model_module_version": "1.5.0",
     "model_name": "HTMLModel",
     "state": {
      "_dom_classes": [],
      "_model_module": "@jupyter-widgets/controls",
      "_model_module_version": "1.5.0",
      "_model_name": "HTMLModel",
      "_view_count": null,
      "_view_module": "@jupyter-widgets/controls",
      "_view_module_version": "1.5.0",
      "_view_name": "HTMLView",
      "description": "",
      "description_tooltip": null,
      "layout": "IPY_MODEL_adbad04d6d8b4c899261f2de886aebdc",
      "placeholder": "​",
      "style": "IPY_MODEL_b16713f79ae74bd6a505b6361ef73597",
      "value": "Validation sanity check:   0%"
     }
    },
    "1872af1b39e945a1909fa93dd557bc38": {
     "model_module": "@jupyter-widgets/controls",
     "model_module_version": "1.5.0",
     "model_name": "ProgressStyleModel",
     "state": {
      "_model_module": "@jupyter-widgets/controls",
      "_model_module_version": "1.5.0",
      "_model_name": "ProgressStyleModel",
      "_view_count": null,
      "_view_module": "@jupyter-widgets/base",
      "_view_module_version": "1.2.0",
      "_view_name": "StyleView",
      "bar_color": null,
      "description_width": ""
     }
    },
    "2b51862bc5294949bc7d47f23ac0234e": {
     "model_module": "@jupyter-widgets/base",
     "model_module_version": "1.2.0",
     "model_name": "LayoutModel",
     "state": {
      "_model_module": "@jupyter-widgets/base",
      "_model_module_version": "1.2.0",
      "_model_name": "LayoutModel",
      "_view_count": null,
      "_view_module": "@jupyter-widgets/base",
      "_view_module_version": "1.2.0",
      "_view_name": "LayoutView",
      "align_content": null,
      "align_items": null,
      "align_self": null,
      "border": null,
      "bottom": null,
      "display": "inline-flex",
      "flex": null,
      "flex_flow": "row wrap",
      "grid_area": null,
      "grid_auto_columns": null,
      "grid_auto_flow": null,
      "grid_auto_rows": null,
      "grid_column": null,
      "grid_gap": null,
      "grid_row": null,
      "grid_template_areas": null,
      "grid_template_columns": null,
      "grid_template_rows": null,
      "height": null,
      "justify_content": null,
      "justify_items": null,
      "left": null,
      "margin": null,
      "max_height": null,
      "max_width": null,
      "min_height": null,
      "min_width": null,
      "object_fit": null,
      "object_position": null,
      "order": null,
      "overflow": null,
      "overflow_x": null,
      "overflow_y": null,
      "padding": null,
      "right": null,
      "top": null,
      "visibility": null,
      "width": "100%"
     }
    },
    "43a96f995d274f3d8ca49d54ba73db66": {
     "model_module": "@jupyter-widgets/controls",
     "model_module_version": "1.5.0",
     "model_name": "HTMLModel",
     "state": {
      "_dom_classes": [],
      "_model_module": "@jupyter-widgets/controls",
      "_model_module_version": "1.5.0",
      "_model_name": "HTMLModel",
      "_view_count": null,
      "_view_module": "@jupyter-widgets/controls",
      "_view_module_version": "1.5.0",
      "_view_name": "HTMLView",
      "description": "",
      "description_tooltip": null,
      "layout": "IPY_MODEL_7e6e595fa9fa4d65b598daaa64b8397f",
      "placeholder": "​",
      "style": "IPY_MODEL_d47c3c4a616a4e9ba2acbb7fd4d4bd8d",
      "value": " 40/8918 [00:10&lt;37:41,  3.93it/s, loss=0.499, v_num=0, train_loss_step=0.494]"
     }
    },
    "534117316f304719b8131ebc1c827b5a": {
     "model_module": "@jupyter-widgets/base",
     "model_module_version": "1.2.0",
     "model_name": "LayoutModel",
     "state": {
      "_model_module": "@jupyter-widgets/base",
      "_model_module_version": "1.2.0",
      "_model_name": "LayoutModel",
      "_view_count": null,
      "_view_module": "@jupyter-widgets/base",
      "_view_module_version": "1.2.0",
      "_view_name": "LayoutView",
      "align_content": null,
      "align_items": null,
      "align_self": null,
      "border": null,
      "bottom": null,
      "display": null,
      "flex": "2",
      "flex_flow": null,
      "grid_area": null,
      "grid_auto_columns": null,
      "grid_auto_flow": null,
      "grid_auto_rows": null,
      "grid_column": null,
      "grid_gap": null,
      "grid_row": null,
      "grid_template_areas": null,
      "grid_template_columns": null,
      "grid_template_rows": null,
      "height": null,
      "justify_content": null,
      "justify_items": null,
      "left": null,
      "margin": null,
      "max_height": null,
      "max_width": null,
      "min_height": null,
      "min_width": null,
      "object_fit": null,
      "object_position": null,
      "order": null,
      "overflow": null,
      "overflow_x": null,
      "overflow_y": null,
      "padding": null,
      "right": null,
      "top": null,
      "visibility": null,
      "width": null
     }
    },
    "685fdda4ba6d4058aafa721cd5ef6c56": {
     "model_module": "@jupyter-widgets/base",
     "model_module_version": "1.2.0",
     "model_name": "LayoutModel",
     "state": {
      "_model_module": "@jupyter-widgets/base",
      "_model_module_version": "1.2.0",
      "_model_name": "LayoutModel",
      "_view_count": null,
      "_view_module": "@jupyter-widgets/base",
      "_view_module_version": "1.2.0",
      "_view_name": "LayoutView",
      "align_content": null,
      "align_items": null,
      "align_self": null,
      "border": null,
      "bottom": null,
      "display": "inline-flex",
      "flex": null,
      "flex_flow": "row wrap",
      "grid_area": null,
      "grid_auto_columns": null,
      "grid_auto_flow": null,
      "grid_auto_rows": null,
      "grid_column": null,
      "grid_gap": null,
      "grid_row": null,
      "grid_template_areas": null,
      "grid_template_columns": null,
      "grid_template_rows": null,
      "height": null,
      "justify_content": null,
      "justify_items": null,
      "left": null,
      "margin": null,
      "max_height": null,
      "max_width": null,
      "min_height": null,
      "min_width": null,
      "object_fit": null,
      "object_position": null,
      "order": null,
      "overflow": null,
      "overflow_x": null,
      "overflow_y": null,
      "padding": null,
      "right": null,
      "top": null,
      "visibility": null,
      "width": "100%"
     }
    },
    "6e1ff9e0a6ec4ed3af6ffde32c267872": {
     "model_module": "@jupyter-widgets/controls",
     "model_module_version": "1.5.0",
     "model_name": "HTMLModel",
     "state": {
      "_dom_classes": [],
      "_model_module": "@jupyter-widgets/controls",
      "_model_module_version": "1.5.0",
      "_model_name": "HTMLModel",
      "_view_count": null,
      "_view_module": "@jupyter-widgets/controls",
      "_view_module_version": "1.5.0",
      "_view_name": "HTMLView",
      "description": "",
      "description_tooltip": null,
      "layout": "IPY_MODEL_d673abb3b63a44f0b784fa585207824a",
      "placeholder": "​",
      "style": "IPY_MODEL_8c363d47b1d04301a72d1cfce20ab0bc",
      "value": "Epoch 0:   0%"
     }
    },
    "77f00bf0820a483c9516ea8842984b21": {
     "model_module": "@jupyter-widgets/controls",
     "model_module_version": "1.5.0",
     "model_name": "HTMLModel",
     "state": {
      "_dom_classes": [],
      "_model_module": "@jupyter-widgets/controls",
      "_model_module_version": "1.5.0",
      "_model_name": "HTMLModel",
      "_view_count": null,
      "_view_module": "@jupyter-widgets/controls",
      "_view_module_version": "1.5.0",
      "_view_name": "HTMLView",
      "description": "",
      "description_tooltip": null,
      "layout": "IPY_MODEL_0569b8be09b64e46b3818a763a5715e2",
      "placeholder": "​",
      "style": "IPY_MODEL_7cb51d5803424c2faca62100ba7c2cda",
      "value": " 0/2 [00:01&lt;?, ?it/s]"
     }
    },
    "7cb51d5803424c2faca62100ba7c2cda": {
     "model_module": "@jupyter-widgets/controls",
     "model_module_version": "1.5.0",
     "model_name": "DescriptionStyleModel",
     "state": {
      "_model_module": "@jupyter-widgets/controls",
      "_model_module_version": "1.5.0",
      "_model_name": "DescriptionStyleModel",
      "_view_count": null,
      "_view_module": "@jupyter-widgets/base",
      "_view_module_version": "1.2.0",
      "_view_name": "StyleView",
      "description_width": ""
     }
    },
    "7cce2fb34c2d4c659d0dcd1452092241": {
     "model_module": "@jupyter-widgets/base",
     "model_module_version": "1.2.0",
     "model_name": "LayoutModel",
     "state": {
      "_model_module": "@jupyter-widgets/base",
      "_model_module_version": "1.2.0",
      "_model_name": "LayoutModel",
      "_view_count": null,
      "_view_module": "@jupyter-widgets/base",
      "_view_module_version": "1.2.0",
      "_view_name": "LayoutView",
      "align_content": null,
      "align_items": null,
      "align_self": null,
      "border": null,
      "bottom": null,
      "display": null,
      "flex": "2",
      "flex_flow": null,
      "grid_area": null,
      "grid_auto_columns": null,
      "grid_auto_flow": null,
      "grid_auto_rows": null,
      "grid_column": null,
      "grid_gap": null,
      "grid_row": null,
      "grid_template_areas": null,
      "grid_template_columns": null,
      "grid_template_rows": null,
      "height": null,
      "justify_content": null,
      "justify_items": null,
      "left": null,
      "margin": null,
      "max_height": null,
      "max_width": null,
      "min_height": null,
      "min_width": null,
      "object_fit": null,
      "object_position": null,
      "order": null,
      "overflow": null,
      "overflow_x": null,
      "overflow_y": null,
      "padding": null,
      "right": null,
      "top": null,
      "visibility": null,
      "width": null
     }
    },
    "7e6e595fa9fa4d65b598daaa64b8397f": {
     "model_module": "@jupyter-widgets/base",
     "model_module_version": "1.2.0",
     "model_name": "LayoutModel",
     "state": {
      "_model_module": "@jupyter-widgets/base",
      "_model_module_version": "1.2.0",
      "_model_name": "LayoutModel",
      "_view_count": null,
      "_view_module": "@jupyter-widgets/base",
      "_view_module_version": "1.2.0",
      "_view_name": "LayoutView",
      "align_content": null,
      "align_items": null,
      "align_self": null,
      "border": null,
      "bottom": null,
      "display": null,
      "flex": null,
      "flex_flow": null,
      "grid_area": null,
      "grid_auto_columns": null,
      "grid_auto_flow": null,
      "grid_auto_rows": null,
      "grid_column": null,
      "grid_gap": null,
      "grid_row": null,
      "grid_template_areas": null,
      "grid_template_columns": null,
      "grid_template_rows": null,
      "height": null,
      "justify_content": null,
      "justify_items": null,
      "left": null,
      "margin": null,
      "max_height": null,
      "max_width": null,
      "min_height": null,
      "min_width": null,
      "object_fit": null,
      "object_position": null,
      "order": null,
      "overflow": null,
      "overflow_x": null,
      "overflow_y": null,
      "padding": null,
      "right": null,
      "top": null,
      "visibility": null,
      "width": null
     }
    },
    "8c363d47b1d04301a72d1cfce20ab0bc": {
     "model_module": "@jupyter-widgets/controls",
     "model_module_version": "1.5.0",
     "model_name": "DescriptionStyleModel",
     "state": {
      "_model_module": "@jupyter-widgets/controls",
      "_model_module_version": "1.5.0",
      "_model_name": "DescriptionStyleModel",
      "_view_count": null,
      "_view_module": "@jupyter-widgets/base",
      "_view_module_version": "1.2.0",
      "_view_name": "StyleView",
      "description_width": ""
     }
    },
    "9982d3de256c4f6590622e4519cedd8d": {
     "model_module": "@jupyter-widgets/controls",
     "model_module_version": "1.5.0",
     "model_name": "ProgressStyleModel",
     "state": {
      "_model_module": "@jupyter-widgets/controls",
      "_model_module_version": "1.5.0",
      "_model_name": "ProgressStyleModel",
      "_view_count": null,
      "_view_module": "@jupyter-widgets/base",
      "_view_module_version": "1.2.0",
      "_view_name": "StyleView",
      "bar_color": null,
      "description_width": ""
     }
    },
    "adbad04d6d8b4c899261f2de886aebdc": {
     "model_module": "@jupyter-widgets/base",
     "model_module_version": "1.2.0",
     "model_name": "LayoutModel",
     "state": {
      "_model_module": "@jupyter-widgets/base",
      "_model_module_version": "1.2.0",
      "_model_name": "LayoutModel",
      "_view_count": null,
      "_view_module": "@jupyter-widgets/base",
      "_view_module_version": "1.2.0",
      "_view_name": "LayoutView",
      "align_content": null,
      "align_items": null,
      "align_self": null,
      "border": null,
      "bottom": null,
      "display": null,
      "flex": null,
      "flex_flow": null,
      "grid_area": null,
      "grid_auto_columns": null,
      "grid_auto_flow": null,
      "grid_auto_rows": null,
      "grid_column": null,
      "grid_gap": null,
      "grid_row": null,
      "grid_template_areas": null,
      "grid_template_columns": null,
      "grid_template_rows": null,
      "height": null,
      "justify_content": null,
      "justify_items": null,
      "left": null,
      "margin": null,
      "max_height": null,
      "max_width": null,
      "min_height": null,
      "min_width": null,
      "object_fit": null,
      "object_position": null,
      "order": null,
      "overflow": null,
      "overflow_x": null,
      "overflow_y": null,
      "padding": null,
      "right": null,
      "top": null,
      "visibility": null,
      "width": null
     }
    },
    "b16713f79ae74bd6a505b6361ef73597": {
     "model_module": "@jupyter-widgets/controls",
     "model_module_version": "1.5.0",
     "model_name": "DescriptionStyleModel",
     "state": {
      "_model_module": "@jupyter-widgets/controls",
      "_model_module_version": "1.5.0",
      "_model_name": "DescriptionStyleModel",
      "_view_count": null,
      "_view_module": "@jupyter-widgets/base",
      "_view_module_version": "1.2.0",
      "_view_name": "StyleView",
      "description_width": ""
     }
    },
    "ca25eb446ae24eac9beea1a887620b44": {
     "model_module": "@jupyter-widgets/controls",
     "model_module_version": "1.5.0",
     "model_name": "HBoxModel",
     "state": {
      "_dom_classes": [],
      "_model_module": "@jupyter-widgets/controls",
      "_model_module_version": "1.5.0",
      "_model_name": "HBoxModel",
      "_view_count": null,
      "_view_module": "@jupyter-widgets/controls",
      "_view_module_version": "1.5.0",
      "_view_name": "HBoxView",
      "box_style": "",
      "children": [
       "IPY_MODEL_6e1ff9e0a6ec4ed3af6ffde32c267872",
       "IPY_MODEL_e56524b32cac4653bebbda995aa8f43d",
       "IPY_MODEL_43a96f995d274f3d8ca49d54ba73db66"
      ],
      "layout": "IPY_MODEL_2b51862bc5294949bc7d47f23ac0234e"
     }
    },
    "d47c3c4a616a4e9ba2acbb7fd4d4bd8d": {
     "model_module": "@jupyter-widgets/controls",
     "model_module_version": "1.5.0",
     "model_name": "DescriptionStyleModel",
     "state": {
      "_model_module": "@jupyter-widgets/controls",
      "_model_module_version": "1.5.0",
      "_model_name": "DescriptionStyleModel",
      "_view_count": null,
      "_view_module": "@jupyter-widgets/base",
      "_view_module_version": "1.2.0",
      "_view_name": "StyleView",
      "description_width": ""
     }
    },
    "d673abb3b63a44f0b784fa585207824a": {
     "model_module": "@jupyter-widgets/base",
     "model_module_version": "1.2.0",
     "model_name": "LayoutModel",
     "state": {
      "_model_module": "@jupyter-widgets/base",
      "_model_module_version": "1.2.0",
      "_model_name": "LayoutModel",
      "_view_count": null,
      "_view_module": "@jupyter-widgets/base",
      "_view_module_version": "1.2.0",
      "_view_name": "LayoutView",
      "align_content": null,
      "align_items": null,
      "align_self": null,
      "border": null,
      "bottom": null,
      "display": null,
      "flex": null,
      "flex_flow": null,
      "grid_area": null,
      "grid_auto_columns": null,
      "grid_auto_flow": null,
      "grid_auto_rows": null,
      "grid_column": null,
      "grid_gap": null,
      "grid_row": null,
      "grid_template_areas": null,
      "grid_template_columns": null,
      "grid_template_rows": null,
      "height": null,
      "justify_content": null,
      "justify_items": null,
      "left": null,
      "margin": null,
      "max_height": null,
      "max_width": null,
      "min_height": null,
      "min_width": null,
      "object_fit": null,
      "object_position": null,
      "order": null,
      "overflow": null,
      "overflow_x": null,
      "overflow_y": null,
      "padding": null,
      "right": null,
      "top": null,
      "visibility": null,
      "width": null
     }
    },
    "d925157f66da4e528c37d35d8b8d6f53": {
     "model_module": "@jupyter-widgets/controls",
     "model_module_version": "1.5.0",
     "model_name": "HBoxModel",
     "state": {
      "_dom_classes": [],
      "_model_module": "@jupyter-widgets/controls",
      "_model_module_version": "1.5.0",
      "_model_name": "HBoxModel",
      "_view_count": null,
      "_view_module": "@jupyter-widgets/controls",
      "_view_module_version": "1.5.0",
      "_view_name": "HBoxView",
      "box_style": "",
      "children": [
       "IPY_MODEL_149853bdda75412baab01312d6a8eaf1",
       "IPY_MODEL_e2b3d786535d40a4b2f7642021192779",
       "IPY_MODEL_77f00bf0820a483c9516ea8842984b21"
      ],
      "layout": "IPY_MODEL_685fdda4ba6d4058aafa721cd5ef6c56"
     }
    },
    "e2b3d786535d40a4b2f7642021192779": {
     "model_module": "@jupyter-widgets/controls",
     "model_module_version": "1.5.0",
     "model_name": "FloatProgressModel",
     "state": {
      "_dom_classes": [],
      "_model_module": "@jupyter-widgets/controls",
      "_model_module_version": "1.5.0",
      "_model_name": "FloatProgressModel",
      "_view_count": null,
      "_view_module": "@jupyter-widgets/controls",
      "_view_module_version": "1.5.0",
      "_view_name": "ProgressView",
      "bar_style": "danger",
      "description": "",
      "description_tooltip": null,
      "layout": "IPY_MODEL_534117316f304719b8131ebc1c827b5a",
      "max": 2,
      "min": 0,
      "orientation": "horizontal",
      "style": "IPY_MODEL_9982d3de256c4f6590622e4519cedd8d",
      "value": 0
     }
    },
    "e56524b32cac4653bebbda995aa8f43d": {
     "model_module": "@jupyter-widgets/controls",
     "model_module_version": "1.5.0",
     "model_name": "FloatProgressModel",
     "state": {
      "_dom_classes": [],
      "_model_module": "@jupyter-widgets/controls",
      "_model_module_version": "1.5.0",
      "_model_name": "FloatProgressModel",
      "_view_count": null,
      "_view_module": "@jupyter-widgets/controls",
      "_view_module_version": "1.5.0",
      "_view_name": "ProgressView",
      "bar_style": "",
      "description": "",
      "description_tooltip": null,
      "layout": "IPY_MODEL_7cce2fb34c2d4c659d0dcd1452092241",
      "max": 8918,
      "min": 0,
      "orientation": "horizontal",
      "style": "IPY_MODEL_1872af1b39e945a1909fa93dd557bc38",
      "value": 40
     }
    }
   }
  }
 },
 "nbformat": 4,
 "nbformat_minor": 1
}
